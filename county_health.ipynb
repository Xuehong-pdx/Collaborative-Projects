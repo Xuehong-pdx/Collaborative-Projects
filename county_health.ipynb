{
 "cells": [
  {
   "cell_type": "markdown",
   "metadata": {},
   "source": [
    "### Importing data "
   ]
  },
  {
   "cell_type": "code",
   "execution_count": 1,
   "metadata": {},
   "outputs": [
    {
     "name": "stdout",
     "output_type": "stream",
     "text": [
      "(287320, 14)\n"
     ]
    },
    {
     "data": {
      "text/html": [
       "<div>\n",
       "<style scoped>\n",
       "    .dataframe tbody tr th:only-of-type {\n",
       "        vertical-align: middle;\n",
       "    }\n",
       "\n",
       "    .dataframe tbody tr th {\n",
       "        vertical-align: top;\n",
       "    }\n",
       "\n",
       "    .dataframe thead th {\n",
       "        text-align: right;\n",
       "    }\n",
       "</style>\n",
       "<table border=\"1\" class=\"dataframe\">\n",
       "  <thead>\n",
       "    <tr style=\"text-align: right;\">\n",
       "      <th></th>\n",
       "      <th>state</th>\n",
       "      <th>county</th>\n",
       "      <th>state_code</th>\n",
       "      <th>county_code</th>\n",
       "      <th>measure_name</th>\n",
       "      <th>measure_id</th>\n",
       "      <th>numerator</th>\n",
       "      <th>denominator</th>\n",
       "      <th>raw_value</th>\n",
       "      <th>confidence_interval_lower_bound</th>\n",
       "      <th>confidence_interval_upper_bound</th>\n",
       "      <th>data_release_year</th>\n",
       "      <th>fips_code</th>\n",
       "      <th>start_year</th>\n",
       "    </tr>\n",
       "  </thead>\n",
       "  <tbody>\n",
       "    <tr>\n",
       "      <th>0</th>\n",
       "      <td>AK</td>\n",
       "      <td>Alaska</td>\n",
       "      <td>2</td>\n",
       "      <td>105</td>\n",
       "      <td>Uninsured</td>\n",
       "      <td>85</td>\n",
       "      <td>600.0</td>\n",
       "      <td>1980.0</td>\n",
       "      <td>0.303000</td>\n",
       "      <td>0.25596</td>\n",
       "      <td>0.35004</td>\n",
       "      <td>NaN</td>\n",
       "      <td>2105</td>\n",
       "      <td>2008.0</td>\n",
       "    </tr>\n",
       "    <tr>\n",
       "      <th>1</th>\n",
       "      <td>HI</td>\n",
       "      <td>Kalawao County</td>\n",
       "      <td>15</td>\n",
       "      <td>5</td>\n",
       "      <td>Unemployment</td>\n",
       "      <td>23</td>\n",
       "      <td>NaN</td>\n",
       "      <td>NaN</td>\n",
       "      <td>NaN</td>\n",
       "      <td>NaN</td>\n",
       "      <td>NaN</td>\n",
       "      <td>NaN</td>\n",
       "      <td>15005</td>\n",
       "      <td>NaN</td>\n",
       "    </tr>\n",
       "    <tr>\n",
       "      <th>2</th>\n",
       "      <td>IA</td>\n",
       "      <td>Cass County</td>\n",
       "      <td>19</td>\n",
       "      <td>29</td>\n",
       "      <td>Unemployment</td>\n",
       "      <td>23</td>\n",
       "      <td>372.0</td>\n",
       "      <td>7453.0</td>\n",
       "      <td>0.049913</td>\n",
       "      <td>NaN</td>\n",
       "      <td>NaN</td>\n",
       "      <td>NaN</td>\n",
       "      <td>19029</td>\n",
       "      <td>2004.0</td>\n",
       "    </tr>\n",
       "  </tbody>\n",
       "</table>\n",
       "</div>"
      ],
      "text/plain": [
       "  state          county  state_code  county_code  measure_name  measure_id  \\\n",
       "0    AK          Alaska           2          105     Uninsured          85   \n",
       "1    HI  Kalawao County          15            5  Unemployment          23   \n",
       "2    IA     Cass County          19           29  Unemployment          23   \n",
       "\n",
       "   numerator  denominator  raw_value  confidence_interval_lower_bound  \\\n",
       "0      600.0       1980.0   0.303000                          0.25596   \n",
       "1        NaN          NaN        NaN                              NaN   \n",
       "2      372.0       7453.0   0.049913                              NaN   \n",
       "\n",
       "   confidence_interval_upper_bound  data_release_year  fips_code  start_year  \n",
       "0                          0.35004                NaN       2105      2008.0  \n",
       "1                              NaN                NaN      15005         NaN  \n",
       "2                              NaN                NaN      19029      2004.0  "
      ]
     },
     "execution_count": 1,
     "metadata": {},
     "output_type": "execute_result"
    }
   ],
   "source": [
    "import pandas as pd\n",
    "import matplotlib.pyplot as plt\n",
    "\n",
    "df = pd.read_csv('C:\\\\Users\\\\Xueho\\\\Projects\\\\Collaborative-Projects\\\\Cleaned_Health_Rankings.csv', )\n",
    "print(df.shape)\n",
    "df.head(3)"
   ]
  },
  {
   "cell_type": "code",
   "execution_count": 2,
   "metadata": {},
   "outputs": [
    {
     "name": "stdout",
     "output_type": "stream",
     "text": [
      "False    287320\n",
      "dtype: int64\n"
     ]
    }
   ],
   "source": [
    "# check for duplicate rows\n",
    "\n",
    "print(df.duplicated().value_counts()) # the first occurrence is set on False and all others on True"
   ]
  },
  {
   "cell_type": "code",
   "execution_count": 3,
   "metadata": {},
   "outputs": [
    {
     "data": {
      "text/plain": [
       "state                                   0\n",
       "county                                  0\n",
       "state_code                              0\n",
       "county_code                             0\n",
       "measure_name                            0\n",
       "measure_id                              0\n",
       "numerator                           89272\n",
       "denominator                        108987\n",
       "raw_value                           13420\n",
       "confidence_interval_lower_bound    113893\n",
       "confidence_interval_upper_bound    113893\n",
       "data_release_year                  143622\n",
       "fips_code                               0\n",
       "start_year                              1\n",
       "dtype: int64"
      ]
     },
     "execution_count": 3,
     "metadata": {},
     "output_type": "execute_result"
    }
   ],
   "source": [
    "df.isnull().sum()"
   ]
  },
  {
   "cell_type": "code",
   "execution_count": 4,
   "metadata": {},
   "outputs": [
    {
     "name": "stdout",
     "output_type": "stream",
     "text": [
      "column state null value % =  0.0 %\n",
      "column county null value % =  0.0 %\n",
      "column state_code null value % =  0.0 %\n",
      "column county_code null value % =  0.0 %\n",
      "column measure_name null value % =  0.0 %\n",
      "column measure_id null value % =  0.0 %\n",
      "column numerator null value % =  31.1 %\n",
      "column denominator null value % =  37.9 %\n",
      "column raw_value null value % =  4.7 %\n",
      "column confidence_interval_lower_bound null value % =  39.6 %\n",
      "column confidence_interval_upper_bound null value % =  39.6 %\n",
      "column data_release_year null value % =  50.0 %\n",
      "column fips_code null value % =  0.0 %\n",
      "column start_year null value % =  0.0 %\n"
     ]
    }
   ],
   "source": [
    "# check null values in columns and print out percent of null values per column\n",
    "\n",
    "for c in df.columns:\n",
    "    print('column '+ c + ' null value % = ', round(df[c].isnull().sum()/df.shape[0], 3)*100, '%')"
   ]
  },
  {
   "cell_type": "code",
   "execution_count": 5,
   "metadata": {},
   "outputs": [
    {
     "data": {
      "text/plain": [
       "(273900, 14)"
      ]
     },
     "execution_count": 5,
     "metadata": {},
     "output_type": "execute_result"
    }
   ],
   "source": [
    "df = df[df.raw_value >=0]\n",
    "df.shape"
   ]
  },
  {
   "cell_type": "code",
   "execution_count": 7,
   "metadata": {},
   "outputs": [
    {
     "data": {
      "text/plain": [
       "([0, 1, 2, 3, 4, 5, 6, 7, 8, 9, 10, 11],\n",
       " <a list of 12 Text major ticklabel objects>)"
      ]
     },
     "execution_count": 7,
     "metadata": {},
     "output_type": "execute_result"
    },
    {
     "data": {
      "image/png": "[encoded data removed]",
      "text/plain": [
       "<Figure size 864x216 with 1 Axes>"
      ]
     },
     "metadata": {
      "needs_background": "light"
     },
     "output_type": "display_data"
    }
   ],
   "source": [
    "plt.figure(figsize=(12,3))\n",
    "plt.scatter(df.measure_name, df.raw_value)\n",
    "plt.xticks(rotation=90)"
   ]
  },
  {
   "cell_type": "code",
   "execution_count": null,
   "metadata": {},
   "outputs": [],
   "source": []
  }
 ],
 "metadata": {
  "kernelspec": {
   "display_name": "Python 3",
   "language": "python",
   "name": "python3"
  },
  "language_info": {
   "codemirror_mode": {
    "name": "ipython",
    "version": 3
   },
   "file_extension": ".py",
   "mimetype": "text/x-python",
   "name": "python",
   "nbconvert_exporter": "python",
   "pygments_lexer": "ipython3",
   "version": "3.7.6"
  }
 },
 "nbformat": 4,
 "nbformat_minor": 4
}
