{
 "cells": [
  {
   "cell_type": "markdown",
   "metadata": {},
   "source": [
    "### Importing data "
   ]
  },
  {
   "cell_type": "code",
   "execution_count": 65,
   "metadata": {},
   "outputs": [
    {
     "name": "stdout",
     "output_type": "stream",
     "text": [
      "(296978, 15)\n"
     ]
    },
    {
     "data": {
      "text/html": [
       "<div>\n",
       "<style scoped>\n",
       "    .dataframe tbody tr th:only-of-type {\n",
       "        vertical-align: middle;\n",
       "    }\n",
       "\n",
       "    .dataframe tbody tr th {\n",
       "        vertical-align: top;\n",
       "    }\n",
       "\n",
       "    .dataframe thead th {\n",
       "        text-align: right;\n",
       "    }\n",
       "</style>\n",
       "<table border=\"1\" class=\"dataframe\">\n",
       "  <thead>\n",
       "    <tr style=\"text-align: right;\">\n",
       "      <th></th>\n",
       "      <th>state</th>\n",
       "      <th>county</th>\n",
       "      <th>state_code</th>\n",
       "      <th>county_code</th>\n",
       "      <th>measure_name</th>\n",
       "      <th>measure_id</th>\n",
       "      <th>numerator</th>\n",
       "      <th>denominator</th>\n",
       "      <th>raw_value</th>\n",
       "      <th>confidence_interval_lower</th>\n",
       "      <th>confidence_interval_upper</th>\n",
       "      <th>data_release_year</th>\n",
       "      <th>fips_code</th>\n",
       "      <th>start_year</th>\n",
       "      <th>end_year</th>\n",
       "    </tr>\n",
       "  </thead>\n",
       "  <tbody>\n",
       "    <tr>\n",
       "      <th>0</th>\n",
       "      <td>AL</td>\n",
       "      <td>Hale County</td>\n",
       "      <td>1.0</td>\n",
       "      <td>65.0</td>\n",
       "      <td>Premature Death</td>\n",
       "      <td>1.0</td>\n",
       "      <td>271.0</td>\n",
       "      <td>NaN</td>\n",
       "      <td>12228.624</td>\n",
       "      <td>10218.083</td>\n",
       "      <td>14239.165</td>\n",
       "      <td>2010.0</td>\n",
       "      <td>1065.0</td>\n",
       "      <td>2004.0</td>\n",
       "      <td>2006.0</td>\n",
       "    </tr>\n",
       "    <tr>\n",
       "      <th>1</th>\n",
       "      <td>AL</td>\n",
       "      <td>Hale County</td>\n",
       "      <td>1.0</td>\n",
       "      <td>65.0</td>\n",
       "      <td>Premature Death</td>\n",
       "      <td>1.0</td>\n",
       "      <td>278.0</td>\n",
       "      <td>NaN</td>\n",
       "      <td>11626.723</td>\n",
       "      <td>9767.516</td>\n",
       "      <td>13485.930</td>\n",
       "      <td>2011.0</td>\n",
       "      <td>1065.0</td>\n",
       "      <td>2005.0</td>\n",
       "      <td>2007.0</td>\n",
       "    </tr>\n",
       "    <tr>\n",
       "      <th>2</th>\n",
       "      <td>AL</td>\n",
       "      <td>Hale County</td>\n",
       "      <td>1.0</td>\n",
       "      <td>65.0</td>\n",
       "      <td>Premature Death</td>\n",
       "      <td>1.0</td>\n",
       "      <td>286.0</td>\n",
       "      <td>NaN</td>\n",
       "      <td>13522.955</td>\n",
       "      <td>11397.331</td>\n",
       "      <td>15648.579</td>\n",
       "      <td>2012.0</td>\n",
       "      <td>1065.0</td>\n",
       "      <td>2006.0</td>\n",
       "      <td>2008.0</td>\n",
       "    </tr>\n",
       "  </tbody>\n",
       "</table>\n",
       "</div>"
      ],
      "text/plain": [
       "  state       county  state_code  county_code     measure_name  measure_id  \\\n",
       "0    AL  Hale County         1.0         65.0  Premature Death         1.0   \n",
       "1    AL  Hale County         1.0         65.0  Premature Death         1.0   \n",
       "2    AL  Hale County         1.0         65.0  Premature Death         1.0   \n",
       "\n",
       "   numerator  denominator  raw_value  confidence_interval_lower  \\\n",
       "0      271.0          NaN  12228.624                  10218.083   \n",
       "1      278.0          NaN  11626.723                   9767.516   \n",
       "2      286.0          NaN  13522.955                  11397.331   \n",
       "\n",
       "   confidence_interval_upper  data_release_year  fips_code  start_year  \\\n",
       "0                  14239.165             2010.0     1065.0      2004.0   \n",
       "1                  13485.930             2011.0     1065.0      2005.0   \n",
       "2                  15648.579             2012.0     1065.0      2006.0   \n",
       "\n",
       "   end_year  \n",
       "0    2006.0  \n",
       "1    2007.0  \n",
       "2    2008.0  "
      ]
     },
     "execution_count": 65,
     "metadata": {},
     "output_type": "execute_result"
    }
   ],
   "source": [
    "import pandas as pd\n",
    "import matplotlib.pyplot as plt\n",
    "\n",
    "df = pd.read_csv('\\\\Collaborative-Projects\\\\cleaned_ranking_1.csv', )\n",
    "print(df.shape)\n",
    "df.head(3)"
   ]
  },
  {
   "cell_type": "code",
   "execution_count": 66,
   "metadata": {},
   "outputs": [
    {
     "data": {
      "text/plain": [
       "state_code                        4\n",
       "county_code                       4\n",
       "state                             6\n",
       "county                            6\n",
       "measure_name                     79\n",
       "measure_id                       79\n",
       "start_year                       80\n",
       "fips_code                      9575\n",
       "raw_value                     13503\n",
       "numerator                     89353\n",
       "denominator                  112263\n",
       "confidence_interval_lower    113976\n",
       "confidence_interval_upper    113976\n",
       "data_release_year            146896\n",
       "end_year                     217182\n",
       "dtype: int64"
      ]
     },
     "execution_count": 66,
     "metadata": {},
     "output_type": "execute_result"
    }
   ],
   "source": [
    "df.isnull().sum().sort_values()"
   ]
  },
  {
   "cell_type": "code",
   "execution_count": 67,
   "metadata": {},
   "outputs": [
    {
     "data": {
      "text/plain": [
       "{'state_code': 0.0013469011172544767,\n",
       " 'county_code': 0.0013469011172544767,\n",
       " 'state': 0.002020351675881715,\n",
       " 'county': 0.002020351675881715,\n",
       " 'measure_name': 0.02660129706577592,\n",
       " 'measure_id': 0.02660129706577592,\n",
       " 'start_year': 0.026938022345089536,\n",
       " 'fips_code': 3.2241445494279035,\n",
       " 'raw_value': 4.5468014465718,\n",
       " 'numerator': 30.087413882509818,\n",
       " 'denominator': 37.80179003158483,\n",
       " 'confidence_interval_lower': 38.37860043504906,\n",
       " 'confidence_interval_upper': 38.37860043504906,\n",
       " 'data_release_year': 49.4635966300534,\n",
       " 'end_year': 73.13066961189044}"
      ]
     },
     "execution_count": 67,
     "metadata": {},
     "output_type": "execute_result"
    }
   ],
   "source": [
    "# determine the percent of null values per column\n",
    "\n",
    "perc_dict = {}\n",
    "for c in df.columns:\n",
    "    perc_dict[c] = df[c].isnull().sum()/df.shape[0]*100\n",
    "sort_dict = {k: v for k, v in sorted(perc_dict.items(),key=lambda item: item[1])}\n",
    "sort_dict"
   ]
  },
  {
   "cell_type": "code",
   "execution_count": 68,
   "metadata": {},
   "outputs": [
    {
     "data": {
      "text/plain": [
       "(283475, 15)"
      ]
     },
     "execution_count": 68,
     "metadata": {},
     "output_type": "execute_result"
    }
   ],
   "source": [
    "# drop rows if null values comprised of less than 3% of the total records in state_code,county_code,state,county,fips_code\n",
    "\n",
    "df1 = df[df.raw_value.notnull()]\n",
    "df1.shape"
   ]
  },
  {
   "cell_type": "code",
   "execution_count": 69,
   "metadata": {},
   "outputs": [
    {
     "data": {
      "text/plain": [
       "measure_name                      0\n",
       "measure_id                        0\n",
       "raw_value                         0\n",
       "start_year                        0\n",
       "state_code                        2\n",
       "county_code                       2\n",
       "state                             4\n",
       "county                            4\n",
       "fips_code                      9573\n",
       "numerator                     77142\n",
       "denominator                   99633\n",
       "confidence_interval_lower    100473\n",
       "confidence_interval_upper    100473\n",
       "data_release_year            140287\n",
       "end_year                     215304\n",
       "dtype: int64"
      ]
     },
     "execution_count": 69,
     "metadata": {},
     "output_type": "execute_result"
    }
   ],
   "source": [
    "df1.isnull().sum().sort_values()"
   ]
  },
  {
   "cell_type": "code",
   "execution_count": 70,
   "metadata": {},
   "outputs": [
    {
     "data": {
      "text/plain": [
       "(273902, 15)"
      ]
     },
     "execution_count": 70,
     "metadata": {},
     "output_type": "execute_result"
    }
   ],
   "source": [
    "# drop rows if null values comprised of less than 3% of the total records in state_code,county_code,state,county,fips_code\n",
    "\n",
    "df1 = df1[df1.fips_code.notnull()]\n",
    "df1.shape"
   ]
  },
  {
   "cell_type": "code",
   "execution_count": 71,
   "metadata": {},
   "outputs": [
    {
     "data": {
      "text/plain": [
       "measure_name                      0\n",
       "measure_id                        0\n",
       "raw_value                         0\n",
       "fips_code                         0\n",
       "start_year                        0\n",
       "state_code                        2\n",
       "county_code                       2\n",
       "state                             4\n",
       "county                            4\n",
       "numerator                     77142\n",
       "denominator                   96442\n",
       "confidence_interval_lower    100473\n",
       "confidence_interval_upper    100473\n",
       "data_release_year            137096\n",
       "end_year                     205731\n",
       "dtype: int64"
      ]
     },
     "execution_count": 71,
     "metadata": {},
     "output_type": "execute_result"
    }
   ],
   "source": [
    "df1.isnull().sum().sort_values()"
   ]
  },
  {
   "cell_type": "code",
   "execution_count": 73,
   "metadata": {},
   "outputs": [
    {
     "data": {
      "text/plain": [
       "(273898, 15)"
      ]
     },
     "execution_count": 73,
     "metadata": {},
     "output_type": "execute_result"
    }
   ],
   "source": [
    "# drop rows if null values comprised of less than 3% of the total records in state_code,county_code,state,county,fips_code\n",
    "\n",
    "df1 = df1[df1.state.notnull()]\n",
    "df1 = df1[df1.state_code.notnull()]\n",
    "df1 = df1[df1.county.notnull()]\n",
    "df1 = df1[df1.county_code.notnull()]\n",
    "df1.shape"
   ]
  },
  {
   "cell_type": "code",
   "execution_count": 96,
   "metadata": {},
   "outputs": [
    {
     "data": {
      "text/plain": [
       "{'state': 0.0,\n",
       " 'county': 0.0,\n",
       " 'state_code': 0.0,\n",
       " 'county_code': 0.0,\n",
       " 'measure_name': 0.0,\n",
       " 'measure_id': 0.0,\n",
       " 'raw_value': 0.0,\n",
       " 'fips_code': 0.0,\n",
       " 'start_year': 0.0,\n",
       " 'numerator': 28.16449919313029,\n",
       " 'denominator': 35.210187734120005,\n",
       " 'confidence_interval_lower': 36.68263368115138,\n",
       " 'confidence_interval_upper': 36.68263368115138,\n",
       " 'data_release_year': 50.05220921656968,\n",
       " 'end_year': 75.11153787176248}"
      ]
     },
     "execution_count": 96,
     "metadata": {},
     "output_type": "execute_result"
    }
   ],
   "source": [
    "perc_dict = {}\n",
    "for c in df1.columns:\n",
    "    perc_dict[c] = df1[c].isnull().sum()/df1.shape[0]*100\n",
    "sort_dict = {k: v for k, v in sorted(perc_dict.items(),key=lambda item: item[1])}\n",
    "sort_dict"
   ]
  },
  {
   "cell_type": "markdown",
   "metadata": {},
   "source": [
    "Removing any other column with null values at this point will eliminate a minimum of 28% of total rows.  This state will be saved to cleaned_ranking_2.csv.  Further cleaned will be determined based on the needs of furture analysis."
   ]
  },
  {
   "cell_type": "code",
   "execution_count": 97,
   "metadata": {},
   "outputs": [],
   "source": [
    "df.to_csv(r'\\\\Collaborative-Projects\\\\cleaned_2nd.csv')"
   ]
  }
 ],
 "metadata": {
  "kernelspec": {
   "display_name": "Python 3",
   "language": "python",
   "name": "python3"
  },
  "language_info": {
   "codemirror_mode": {
    "name": "ipython",
    "version": 3
   },
   "file_extension": ".py",
   "mimetype": "text/x-python",
   "name": "python",
   "nbconvert_exporter": "python",
   "pygments_lexer": "ipython3",
   "version": "3.7.6"
  }
 },
 "nbformat": 4,
 "nbformat_minor": 4
}
