{
 "cells": [
  {
   "cell_type": "markdown",
   "metadata": {},
   "source": [
    "### Importing data "
   ]
  },
  {
   "cell_type": "code",
   "execution_count": 239,
   "metadata": {},
   "outputs": [
    {
     "name": "stdout",
     "output_type": "stream",
     "text": [
      "(273898, 16)\n"
     ]
    },
    {
     "data": {
      "text/html": [
       "<div>\n",
       "<style scoped>\n",
       "    .dataframe tbody tr th:only-of-type {\n",
       "        vertical-align: middle;\n",
       "    }\n",
       "\n",
       "    .dataframe tbody tr th {\n",
       "        vertical-align: top;\n",
       "    }\n",
       "\n",
       "    .dataframe thead th {\n",
       "        text-align: right;\n",
       "    }\n",
       "</style>\n",
       "<table border=\"1\" class=\"dataframe\">\n",
       "  <thead>\n",
       "    <tr style=\"text-align: right;\">\n",
       "      <th></th>\n",
       "      <th>Unnamed: 0</th>\n",
       "      <th>state</th>\n",
       "      <th>county</th>\n",
       "      <th>state_code</th>\n",
       "      <th>county_code</th>\n",
       "      <th>measure_name</th>\n",
       "      <th>measure_id</th>\n",
       "      <th>numerator</th>\n",
       "      <th>denominator</th>\n",
       "      <th>raw_value</th>\n",
       "      <th>confidence_interval_lower</th>\n",
       "      <th>confidence_interval_upper</th>\n",
       "      <th>data_release_year</th>\n",
       "      <th>fips_code</th>\n",
       "      <th>start_year</th>\n",
       "      <th>end_year</th>\n",
       "    </tr>\n",
       "  </thead>\n",
       "  <tbody>\n",
       "    <tr>\n",
       "      <th>0</th>\n",
       "      <td>0</td>\n",
       "      <td>AL</td>\n",
       "      <td>Hale County</td>\n",
       "      <td>1.0</td>\n",
       "      <td>65.0</td>\n",
       "      <td>Premature Death</td>\n",
       "      <td>1.0</td>\n",
       "      <td>271.0</td>\n",
       "      <td>NaN</td>\n",
       "      <td>12228.624</td>\n",
       "      <td>10218.083</td>\n",
       "      <td>14239.165</td>\n",
       "      <td>2010.0</td>\n",
       "      <td>1065.0</td>\n",
       "      <td>2004.0</td>\n",
       "      <td>2006.0</td>\n",
       "    </tr>\n",
       "    <tr>\n",
       "      <th>1</th>\n",
       "      <td>1</td>\n",
       "      <td>AL</td>\n",
       "      <td>Hale County</td>\n",
       "      <td>1.0</td>\n",
       "      <td>65.0</td>\n",
       "      <td>Premature Death</td>\n",
       "      <td>1.0</td>\n",
       "      <td>278.0</td>\n",
       "      <td>NaN</td>\n",
       "      <td>11626.723</td>\n",
       "      <td>9767.516</td>\n",
       "      <td>13485.930</td>\n",
       "      <td>2011.0</td>\n",
       "      <td>1065.0</td>\n",
       "      <td>2005.0</td>\n",
       "      <td>2007.0</td>\n",
       "    </tr>\n",
       "    <tr>\n",
       "      <th>2</th>\n",
       "      <td>2</td>\n",
       "      <td>AL</td>\n",
       "      <td>Hale County</td>\n",
       "      <td>1.0</td>\n",
       "      <td>65.0</td>\n",
       "      <td>Premature Death</td>\n",
       "      <td>1.0</td>\n",
       "      <td>286.0</td>\n",
       "      <td>NaN</td>\n",
       "      <td>13522.955</td>\n",
       "      <td>11397.331</td>\n",
       "      <td>15648.579</td>\n",
       "      <td>2012.0</td>\n",
       "      <td>1065.0</td>\n",
       "      <td>2006.0</td>\n",
       "      <td>2008.0</td>\n",
       "    </tr>\n",
       "  </tbody>\n",
       "</table>\n",
       "</div>"
      ],
      "text/plain": [
       "   Unnamed: 0 state       county  state_code  county_code     measure_name  \\\n",
       "0           0    AL  Hale County         1.0         65.0  Premature Death   \n",
       "1           1    AL  Hale County         1.0         65.0  Premature Death   \n",
       "2           2    AL  Hale County         1.0         65.0  Premature Death   \n",
       "\n",
       "   measure_id  numerator  denominator  raw_value  confidence_interval_lower  \\\n",
       "0         1.0      271.0          NaN  12228.624                  10218.083   \n",
       "1         1.0      278.0          NaN  11626.723                   9767.516   \n",
       "2         1.0      286.0          NaN  13522.955                  11397.331   \n",
       "\n",
       "   confidence_interval_upper  data_release_year  fips_code  start_year  \\\n",
       "0                  14239.165             2010.0     1065.0      2004.0   \n",
       "1                  13485.930             2011.0     1065.0      2005.0   \n",
       "2                  15648.579             2012.0     1065.0      2006.0   \n",
       "\n",
       "   end_year  \n",
       "0    2006.0  \n",
       "1    2007.0  \n",
       "2    2008.0  "
      ]
     },
     "execution_count": 239,
     "metadata": {},
     "output_type": "execute_result"
    }
   ],
   "source": [
    "import pandas as pd\n",
    "import matplotlib.pyplot as plt\n",
    "\n",
    "df = pd.read_csv('C:\\\\Users\\\\Xueho\\\\Projects\\\\Collaborative-Projects\\\\cleaned_ranking_2.csv')\n",
    "print(df.shape)\n",
    "df.head(3)"
   ]
  },
  {
   "cell_type": "code",
   "execution_count": 3,
   "metadata": {},
   "outputs": [
    {
     "data": {
      "text/plain": [
       "index                             0\n",
       "state                             0\n",
       "county                            0\n",
       "state_code                        0\n",
       "county_code                       0\n",
       "measure_name                      0\n",
       "measure_id                        0\n",
       "raw_value                         0\n",
       "fips_code                         0\n",
       "start_year                        0\n",
       "numerator                     77142\n",
       "denominator                   96440\n",
       "confidence_interval_lower    100473\n",
       "confidence_interval_upper    100473\n",
       "data_release_year            137092\n",
       "end_year                     205729\n",
       "dtype: int64"
      ]
     },
     "execution_count": 3,
     "metadata": {},
     "output_type": "execute_result"
    }
   ],
   "source": [
    "df = df.rename(columns = {'Unnamed: 0':'index'})\n",
    "df.isnull().sum().sort_values()"
   ]
  },
  {
   "cell_type": "code",
   "execution_count": 5,
   "metadata": {},
   "outputs": [],
   "source": [
    "df = df[['state', 'county', 'state_code', 'county_code', 'measure_name', 'measure_id', 'numerator', 'denominator', 'raw_value',\n",
    "        'fips_code', 'start_year', ]]"
   ]
  },
  {
   "cell_type": "code",
   "execution_count": 107,
   "metadata": {},
   "outputs": [
    {
     "data": {
      "text/plain": [
       "Illinois                90\n",
       "Ohio                    90\n",
       "Tennessee               90\n",
       "California              90\n",
       "Kansas                  90\n",
       "Nevada                  90\n",
       "Pennsylvania            90\n",
       "Michigan                90\n",
       "Maine                   90\n",
       "New Hampshire           90\n",
       "North Dakota            90\n",
       "Rhode Island            90\n",
       "Iowa                    90\n",
       "Florida                 90\n",
       "South Carolina          90\n",
       "Wisconsin               90\n",
       "Arkansas                90\n",
       "Georgia                 90\n",
       "Idaho                   90\n",
       "Utah                    90\n",
       "Mississippi             90\n",
       "West Virginia           90\n",
       "New Mexico              90\n",
       "Oklahoma                90\n",
       "Minnesota               90\n",
       "Montana                 90\n",
       "Arizona                 90\n",
       "Oregon                  90\n",
       "Massachusetts           90\n",
       "Connecticut             90\n",
       "Nebraska                90\n",
       "Texas                   90\n",
       "Alabama                 90\n",
       "New Jersey              90\n",
       "South Dakota            90\n",
       "North Carolina          90\n",
       "Indiana                 90\n",
       "Virginia                90\n",
       "Delaware                90\n",
       "Wyoming                 90\n",
       "Kentucky                90\n",
       "Washington              90\n",
       "New York                90\n",
       "Louisiana               90\n",
       "Missouri                90\n",
       "Maryland                90\n",
       "Vermont                 90\n",
       "Colorado                90\n",
       "District of Columbia    87\n",
       "Alaska                  81\n",
       "Hawaii                  81\n",
       "Puerto Rico              1\n",
       "Name: county, dtype: int64"
      ]
     },
     "execution_count": 107,
     "metadata": {},
     "output_type": "execute_result"
    }
   ],
   "source": [
    "# Fred found out that county name are state names when county==0.\n",
    "\n",
    "df[df.county_code==0]['county'].value_counts()"
   ]
  },
  {
   "cell_type": "code",
   "execution_count": 108,
   "metadata": {},
   "outputs": [],
   "source": [
    "df = df[df.county_code!=0]"
   ]
  },
  {
   "cell_type": "code",
   "execution_count": 109,
   "metadata": {},
   "outputs": [
    {
     "data": {
      "text/html": [
       "<div>\n",
       "<style scoped>\n",
       "    .dataframe tbody tr th:only-of-type {\n",
       "        vertical-align: middle;\n",
       "    }\n",
       "\n",
       "    .dataframe tbody tr th {\n",
       "        vertical-align: top;\n",
       "    }\n",
       "\n",
       "    .dataframe thead th {\n",
       "        text-align: right;\n",
       "    }\n",
       "</style>\n",
       "<table border=\"1\" class=\"dataframe\">\n",
       "  <thead>\n",
       "    <tr style=\"text-align: right;\">\n",
       "      <th></th>\n",
       "      <th>state_code</th>\n",
       "      <th>county_code</th>\n",
       "      <th>measure_id</th>\n",
       "      <th>numerator</th>\n",
       "      <th>denominator</th>\n",
       "      <th>raw_value</th>\n",
       "      <th>fips_code</th>\n",
       "      <th>start_year</th>\n",
       "    </tr>\n",
       "  </thead>\n",
       "  <tbody>\n",
       "    <tr>\n",
       "      <th>count</th>\n",
       "      <td>269328.000000</td>\n",
       "      <td>269328.000000</td>\n",
       "      <td>269328.000000</td>\n",
       "      <td>1.935450e+05</td>\n",
       "      <td>1.744510e+05</td>\n",
       "      <td>269328.000000</td>\n",
       "      <td>269328.000000</td>\n",
       "      <td>269328.000000</td>\n",
       "    </tr>\n",
       "    <tr>\n",
       "      <th>mean</th>\n",
       "      <td>30.385459</td>\n",
       "      <td>103.468210</td>\n",
       "      <td>38.651217</td>\n",
       "      <td>3.928770e+03</td>\n",
       "      <td>4.364983e+04</td>\n",
       "      <td>1139.766557</td>\n",
       "      <td>30488.927575</td>\n",
       "      <td>2006.692694</td>\n",
       "    </tr>\n",
       "    <tr>\n",
       "      <th>std</th>\n",
       "      <td>15.146888</td>\n",
       "      <td>108.102091</td>\n",
       "      <td>37.463466</td>\n",
       "      <td>2.100739e+04</td>\n",
       "      <td>1.847151e+05</td>\n",
       "      <td>2926.455025</td>\n",
       "      <td>15165.404335</td>\n",
       "      <td>3.152749</td>\n",
       "    </tr>\n",
       "    <tr>\n",
       "      <th>min</th>\n",
       "      <td>1.000000</td>\n",
       "      <td>1.000000</td>\n",
       "      <td>1.000000</td>\n",
       "      <td>0.000000e+00</td>\n",
       "      <td>1.000000e+01</td>\n",
       "      <td>0.000000</td>\n",
       "      <td>1001.000000</td>\n",
       "      <td>1997.000000</td>\n",
       "    </tr>\n",
       "    <tr>\n",
       "      <th>25%</th>\n",
       "      <td>19.000000</td>\n",
       "      <td>35.000000</td>\n",
       "      <td>7.000000</td>\n",
       "      <td>2.000000e+02</td>\n",
       "      <td>1.995000e+03</td>\n",
       "      <td>0.220000</td>\n",
       "      <td>19005.000000</td>\n",
       "      <td>2005.000000</td>\n",
       "    </tr>\n",
       "    <tr>\n",
       "      <th>50%</th>\n",
       "      <td>29.000000</td>\n",
       "      <td>79.000000</td>\n",
       "      <td>24.000000</td>\n",
       "      <td>7.330000e+02</td>\n",
       "      <td>7.879000e+03</td>\n",
       "      <td>0.693000</td>\n",
       "      <td>29181.000000</td>\n",
       "      <td>2007.000000</td>\n",
       "    </tr>\n",
       "    <tr>\n",
       "      <th>75%</th>\n",
       "      <td>45.000000</td>\n",
       "      <td>133.000000</td>\n",
       "      <td>50.000000</td>\n",
       "      <td>2.348000e+03</td>\n",
       "      <td>2.566700e+04</td>\n",
       "      <td>106.700851</td>\n",
       "      <td>45085.000000</td>\n",
       "      <td>2009.000000</td>\n",
       "    </tr>\n",
       "    <tr>\n",
       "      <th>max</th>\n",
       "      <td>72.000000</td>\n",
       "      <td>840.000000</td>\n",
       "      <td>125.000000</td>\n",
       "      <td>2.248384e+06</td>\n",
       "      <td>1.000469e+07</td>\n",
       "      <td>32810.400000</td>\n",
       "      <td>72153.000000</td>\n",
       "      <td>2012.000000</td>\n",
       "    </tr>\n",
       "  </tbody>\n",
       "</table>\n",
       "</div>"
      ],
      "text/plain": [
       "          state_code    county_code     measure_id     numerator  \\\n",
       "count  269328.000000  269328.000000  269328.000000  1.935450e+05   \n",
       "mean       30.385459     103.468210      38.651217  3.928770e+03   \n",
       "std        15.146888     108.102091      37.463466  2.100739e+04   \n",
       "min         1.000000       1.000000       1.000000  0.000000e+00   \n",
       "25%        19.000000      35.000000       7.000000  2.000000e+02   \n",
       "50%        29.000000      79.000000      24.000000  7.330000e+02   \n",
       "75%        45.000000     133.000000      50.000000  2.348000e+03   \n",
       "max        72.000000     840.000000     125.000000  2.248384e+06   \n",
       "\n",
       "        denominator      raw_value      fips_code     start_year  \n",
       "count  1.744510e+05  269328.000000  269328.000000  269328.000000  \n",
       "mean   4.364983e+04    1139.766557   30488.927575    2006.692694  \n",
       "std    1.847151e+05    2926.455025   15165.404335       3.152749  \n",
       "min    1.000000e+01       0.000000    1001.000000    1997.000000  \n",
       "25%    1.995000e+03       0.220000   19005.000000    2005.000000  \n",
       "50%    7.879000e+03       0.693000   29181.000000    2007.000000  \n",
       "75%    2.566700e+04     106.700851   45085.000000    2009.000000  \n",
       "max    1.000469e+07   32810.400000   72153.000000    2012.000000  "
      ]
     },
     "execution_count": 109,
     "metadata": {},
     "output_type": "execute_result"
    }
   ],
   "source": [
    "df.describe()"
   ]
  },
  {
   "cell_type": "code",
   "execution_count": 110,
   "metadata": {},
   "outputs": [
    {
     "data": {
      "text/plain": [
       "state               0\n",
       "county              0\n",
       "state_code          0\n",
       "county_code         0\n",
       "measure_name        0\n",
       "measure_id          0\n",
       "raw_value           0\n",
       "fips_code           0\n",
       "start_year          0\n",
       "numerator       75783\n",
       "denominator     94877\n",
       "dtype: int64"
      ]
     },
     "execution_count": 110,
     "metadata": {},
     "output_type": "execute_result"
    }
   ],
   "source": [
    "df.isnull().sum().sort_values()"
   ]
  },
  {
   "cell_type": "code",
   "execution_count": 111,
   "metadata": {},
   "outputs": [
    {
     "data": {
      "image/png": "[encoded data removed]",
      "text/plain": [
       "<Figure size 864x216 with 1 Axes>"
      ]
     },
     "metadata": {
      "needs_background": "light"
     },
     "output_type": "display_data"
    }
   ],
   "source": [
    "fig = plt.figure(figsize=(12,3))\n",
    "ax = fig.add_subplot(111)\n",
    "plt.hist(df.raw_value, bins=200)\n",
    "ax.set_yscale('log')"
   ]
  },
  {
   "cell_type": "code",
   "execution_count": 112,
   "metadata": {},
   "outputs": [
    {
     "data": {
      "text/plain": [
       "2008.0    37024\n",
       "2009.0    34033\n",
       "2010.0    31092\n",
       "2006.0    29991\n",
       "2007.0    24775\n",
       "2004.0    21557\n",
       "2005.0    21546\n",
       "2011.0    21445\n",
       "2003.0    21133\n",
       "2002.0     9145\n",
       "2012.0     3218\n",
       "1997.0     2884\n",
       "1998.0     2879\n",
       "2001.0     2870\n",
       "2000.0     2868\n",
       "1999.0     2868\n",
       "Name: start_year, dtype: int64"
      ]
     },
     "execution_count": 112,
     "metadata": {},
     "output_type": "execute_result"
    }
   ],
   "source": [
    "df.start_year.value_counts()"
   ]
  },
  {
   "cell_type": "code",
   "execution_count": 113,
   "metadata": {},
   "outputs": [
    {
     "data": {
      "image/png": "[encoded data removed]",
      "text/plain": [
       "<Figure size 864x216 with 1 Axes>"
      ]
     },
     "metadata": {
      "needs_background": "light"
     },
     "output_type": "display_data"
    }
   ],
   "source": [
    "dfy = df[df.start_year == 2008]\n",
    "\n",
    "fig = plt.figure(figsize=(12,3))\n",
    "ax = fig.add_subplot(111)\n",
    "plt.hist(dfy.raw_value, bins=200)\n",
    "ax.set_yscale('log')"
   ]
  },
  {
   "cell_type": "code",
   "execution_count": 114,
   "metadata": {},
   "outputs": [
    {
     "data": {
      "image/png": "[encoded data removed]",
      "text/plain": [
       "<Figure size 864x216 with 1 Axes>"
      ]
     },
     "metadata": {
      "needs_background": "light"
     },
     "output_type": "display_data"
    }
   ],
   "source": [
    "dfy = df[df.start_year == 2009]\n",
    "\n",
    "fig = plt.figure(figsize=(12,3))\n",
    "ax = fig.add_subplot(111)\n",
    "plt.hist(dfy.raw_value, bins=200)\n",
    "ax.set_yscale('log')"
   ]
  },
  {
   "cell_type": "code",
   "execution_count": 115,
   "metadata": {},
   "outputs": [
    {
     "data": {
      "image/png": "[encoded data removed]",
      "text/plain": [
       "<Figure size 864x216 with 1 Axes>"
      ]
     },
     "metadata": {
      "needs_background": "light"
     },
     "output_type": "display_data"
    }
   ],
   "source": [
    "dfy = df[df.start_year == 2010]\n",
    "\n",
    "fig = plt.figure(figsize=(12,3))\n",
    "ax = fig.add_subplot(111)\n",
    "plt.hist(dfy.raw_value, bins=200)\n",
    "ax.set_yscale('log')"
   ]
  },
  {
   "cell_type": "code",
   "execution_count": 116,
   "metadata": {},
   "outputs": [
    {
     "data": {
      "image/png": "[encoded data removed]",
      "text/plain": [
       "<Figure size 864x216 with 1 Axes>"
      ]
     },
     "metadata": {
      "needs_background": "light"
     },
     "output_type": "display_data"
    }
   ],
   "source": [
    "dfy = df[df.start_year == 2006]\n",
    "\n",
    "fig = plt.figure(figsize=(12,3))\n",
    "ax = fig.add_subplot(111)\n",
    "plt.hist(dfy.raw_value, bins=200)\n",
    "ax.set_yscale('log')"
   ]
  },
  {
   "cell_type": "code",
   "execution_count": 117,
   "metadata": {},
   "outputs": [
    {
     "data": {
      "image/png": "[encoded data removed]",
      "text/plain": [
       "<Figure size 864x216 with 1 Axes>"
      ]
     },
     "metadata": {
      "needs_background": "light"
     },
     "output_type": "display_data"
    }
   ],
   "source": [
    "dfy = df[df.start_year == 2007]\n",
    "\n",
    "fig = plt.figure(figsize=(12,3))\n",
    "ax = fig.add_subplot(111)\n",
    "plt.hist(dfy.raw_value, bins=200)\n",
    "ax.set_yscale('log')"
   ]
  },
  {
   "cell_type": "code",
   "execution_count": 118,
   "metadata": {},
   "outputs": [
    {
     "data": {
      "image/png": "[encoded data removed]",
      "text/plain": [
       "<Figure size 864x216 with 1 Axes>"
      ]
     },
     "metadata": {
      "needs_background": "light"
     },
     "output_type": "display_data"
    }
   ],
   "source": [
    "dfy = df[df.start_year == 2004]\n",
    "\n",
    "fig = plt.figure(figsize=(12,3))\n",
    "ax = fig.add_subplot(111)\n",
    "plt.hist(dfy.raw_value, bins=200)\n",
    "ax.set_yscale('log')"
   ]
  },
  {
   "cell_type": "code",
   "execution_count": 119,
   "metadata": {},
   "outputs": [
    {
     "data": {
      "image/png": "[encoded data removed]",
      "text/plain": [
       "<Figure size 864x216 with 1 Axes>"
      ]
     },
     "metadata": {
      "needs_background": "light"
     },
     "output_type": "display_data"
    }
   ],
   "source": [
    "dfy = df[df.start_year == 2005]\n",
    "\n",
    "fig = plt.figure(figsize=(12,3))\n",
    "ax = fig.add_subplot(111)\n",
    "plt.hist(dfy.raw_value, bins=200)\n",
    "ax.set_yscale('log')"
   ]
  },
  {
   "cell_type": "code",
   "execution_count": 120,
   "metadata": {},
   "outputs": [
    {
     "data": {
      "image/png": "[encoded data removed]",
      "text/plain": [
       "<Figure size 864x216 with 1 Axes>"
      ]
     },
     "metadata": {
      "needs_background": "light"
     },
     "output_type": "display_data"
    }
   ],
   "source": [
    "dfy = df[df.start_year == 2011]\n",
    "\n",
    "fig = plt.figure(figsize=(12,3))\n",
    "ax = fig.add_subplot(111)\n",
    "plt.hist(dfy.raw_value, bins=200)\n",
    "ax.set_yscale('log')"
   ]
  },
  {
   "cell_type": "code",
   "execution_count": 121,
   "metadata": {},
   "outputs": [
    {
     "data": {
      "image/png": "[encoded data removed]",
      "text/plain": [
       "<Figure size 864x216 with 1 Axes>"
      ]
     },
     "metadata": {
      "needs_background": "light"
     },
     "output_type": "display_data"
    }
   ],
   "source": [
    "dfy = df[df.start_year == 2003]\n",
    "\n",
    "fig = plt.figure(figsize=(12,3))\n",
    "ax = fig.add_subplot(111)\n",
    "plt.hist(dfy.raw_value, bins=200)\n",
    "ax.set_yscale('log')"
   ]
  },
  {
   "cell_type": "code",
   "execution_count": 122,
   "metadata": {},
   "outputs": [
    {
     "data": {
      "image/png": "[encoded data removed]",
      "text/plain": [
       "<Figure size 864x216 with 1 Axes>"
      ]
     },
     "metadata": {
      "needs_background": "light"
     },
     "output_type": "display_data"
    }
   ],
   "source": [
    "dfy = df[df.start_year == 2002]\n",
    "\n",
    "fig = plt.figure(figsize=(12,3))\n",
    "ax = fig.add_subplot(111)\n",
    "plt.hist(dfy.raw_value, bins=200)\n",
    "ax.set_yscale('log')"
   ]
  },
  {
   "cell_type": "code",
   "execution_count": 123,
   "metadata": {},
   "outputs": [
    {
     "data": {
      "image/png": "[encoded data removed]",
      "text/plain": [
       "<Figure size 864x216 with 1 Axes>"
      ]
     },
     "metadata": {
      "needs_background": "light"
     },
     "output_type": "display_data"
    }
   ],
   "source": [
    "dfy = df[df.start_year == 2012]\n",
    "\n",
    "fig = plt.figure(figsize=(12,3))\n",
    "ax = fig.add_subplot(111)\n",
    "plt.hist(dfy.raw_value, bins=200)\n",
    "ax.set_yscale('log')"
   ]
  },
  {
   "cell_type": "code",
   "execution_count": 124,
   "metadata": {},
   "outputs": [
    {
     "data": {
      "image/png": "[encoded data removed]",
      "text/plain": [
       "<Figure size 864x216 with 1 Axes>"
      ]
     },
     "metadata": {
      "needs_background": "light"
     },
     "output_type": "display_data"
    }
   ],
   "source": [
    "dfy = df[df.start_year == 1997]\n",
    "\n",
    "fig = plt.figure(figsize=(12,3))\n",
    "ax = fig.add_subplot(111)\n",
    "plt.hist(dfy.raw_value, bins=200)\n",
    "ax.set_yscale('log')"
   ]
  },
  {
   "cell_type": "code",
   "execution_count": 125,
   "metadata": {},
   "outputs": [
    {
     "data": {
      "image/png": "[encoded data removed]",
      "text/plain": [
       "<Figure size 864x216 with 1 Axes>"
      ]
     },
     "metadata": {
      "needs_background": "light"
     },
     "output_type": "display_data"
    }
   ],
   "source": [
    "dfy = df[df.start_year == 1998]\n",
    "\n",
    "fig = plt.figure(figsize=(12,3))\n",
    "ax = fig.add_subplot(111)\n",
    "plt.hist(dfy.raw_value, bins=200)\n",
    "ax.set_yscale('log')"
   ]
  },
  {
   "cell_type": "code",
   "execution_count": 126,
   "metadata": {},
   "outputs": [
    {
     "data": {
      "image/png": "[encoded data removed]",
      "text/plain": [
       "<Figure size 864x216 with 1 Axes>"
      ]
     },
     "metadata": {
      "needs_background": "light"
     },
     "output_type": "display_data"
    }
   ],
   "source": [
    "dfy = df[df.start_year == 2001]\n",
    "\n",
    "fig = plt.figure(figsize=(12,3))\n",
    "ax = fig.add_subplot(111)\n",
    "plt.hist(dfy.raw_value, bins=200)\n",
    "ax.set_yscale('log')"
   ]
  },
  {
   "cell_type": "code",
   "execution_count": 127,
   "metadata": {},
   "outputs": [
    {
     "data": {
      "image/png": "[encoded data removed]",
      "text/plain": [
       "<Figure size 864x216 with 1 Axes>"
      ]
     },
     "metadata": {
      "needs_background": "light"
     },
     "output_type": "display_data"
    }
   ],
   "source": [
    "dfy = df[df.start_year == 2000]\n",
    "\n",
    "fig = plt.figure(figsize=(12,3))\n",
    "ax = fig.add_subplot(111)\n",
    "plt.hist(dfy.raw_value, bins=200)\n",
    "ax.set_yscale('log')"
   ]
  },
  {
   "cell_type": "code",
   "execution_count": 128,
   "metadata": {},
   "outputs": [
    {
     "data": {
      "image/png": "[encoded data removed]",
      "text/plain": [
       "<Figure size 864x216 with 1 Axes>"
      ]
     },
     "metadata": {
      "needs_background": "light"
     },
     "output_type": "display_data"
    }
   ],
   "source": [
    "dfy = df[df.start_year == 1999]\n",
    "\n",
    "fig = plt.figure(figsize=(12,3))\n",
    "ax = fig.add_subplot(111)\n",
    "plt.hist(dfy.raw_value, bins=200)\n",
    "ax.set_yscale('log')"
   ]
  },
  {
   "cell_type": "markdown",
   "metadata": {},
   "source": [
    "The raw value column has very complex distribution.  When grouped by start-year, three distinct patterns emerge.  1. declining seen 2009, 2010 and 2011, 2. double peaks seen in 2008, 2006, 2007, 2004, 2005, 2003 and 2002, 3. one peak seen in 1997, 1998, 2001, 2000 and 1999.  Although 2012 also has only one peak, the raw_values are very different from other years since they are all less than 1.  Therefore, data will be analyzed in four groups.  \n",
    "\n",
    "### <b>Group by similar years"
   ]
  },
  {
   "cell_type": "code",
   "execution_count": 129,
   "metadata": {},
   "outputs": [
    {
     "data": {
      "text/plain": [
       "(86570, 11)"
      ]
     },
     "execution_count": 129,
     "metadata": {},
     "output_type": "execute_result"
    },
    {
     "data": {
      "image/png": "[encoded data removed]",
      "text/plain": [
       "<Figure size 864x216 with 1 Axes>"
      ]
     },
     "metadata": {
      "needs_background": "light"
     },
     "output_type": "display_data"
    }
   ],
   "source": [
    "df1 = df[df['start_year'].isin([2009, 2010, 2011])]\n",
    "\n",
    "fig = plt.figure(figsize=(12,3))\n",
    "ax = fig.add_subplot(111)\n",
    "plt.hist(df1.raw_value, bins=200)\n",
    "ax.set_yscale('log')\n",
    "df1.shape"
   ]
  },
  {
   "cell_type": "code",
   "execution_count": 184,
   "metadata": {},
   "outputs": [
    {
     "data": {
      "text/html": [
       "<div>\n",
       "<style scoped>\n",
       "    .dataframe tbody tr th:only-of-type {\n",
       "        vertical-align: middle;\n",
       "    }\n",
       "\n",
       "    .dataframe tbody tr th {\n",
       "        vertical-align: top;\n",
       "    }\n",
       "\n",
       "    .dataframe thead th {\n",
       "        text-align: right;\n",
       "    }\n",
       "</style>\n",
       "<table border=\"1\" class=\"dataframe\">\n",
       "  <thead>\n",
       "    <tr style=\"text-align: right;\">\n",
       "      <th></th>\n",
       "      <th>state</th>\n",
       "      <th>county</th>\n",
       "      <th>state_code</th>\n",
       "      <th>county_code</th>\n",
       "      <th>measure_name</th>\n",
       "      <th>measure_id</th>\n",
       "      <th>numerator</th>\n",
       "      <th>denominator</th>\n",
       "      <th>raw_value</th>\n",
       "      <th>fips_code</th>\n",
       "      <th>start_year</th>\n",
       "    </tr>\n",
       "  </thead>\n",
       "  <tbody>\n",
       "    <tr>\n",
       "      <th>152920</th>\n",
       "      <td>AK</td>\n",
       "      <td>Nome Census Area</td>\n",
       "      <td>2.0</td>\n",
       "      <td>180.0</td>\n",
       "      <td>Sexually transmitted infections</td>\n",
       "      <td>45.0</td>\n",
       "      <td>267.0</td>\n",
       "      <td>9492.0</td>\n",
       "      <td>2812.9</td>\n",
       "      <td>2180.0</td>\n",
       "      <td>2010.0</td>\n",
       "    </tr>\n",
       "    <tr>\n",
       "      <th>152958</th>\n",
       "      <td>AK</td>\n",
       "      <td>Wade Hampton Census Area</td>\n",
       "      <td>2.0</td>\n",
       "      <td>270.0</td>\n",
       "      <td>Sexually transmitted infections</td>\n",
       "      <td>45.0</td>\n",
       "      <td>209.0</td>\n",
       "      <td>7459.0</td>\n",
       "      <td>2802.0</td>\n",
       "      <td>2270.0</td>\n",
       "      <td>2010.0</td>\n",
       "    </tr>\n",
       "    <tr>\n",
       "      <th>152931</th>\n",
       "      <td>AK</td>\n",
       "      <td>Northwest Arctic Borough</td>\n",
       "      <td>2.0</td>\n",
       "      <td>188.0</td>\n",
       "      <td>Sexually transmitted infections</td>\n",
       "      <td>45.0</td>\n",
       "      <td>213.0</td>\n",
       "      <td>7733.0</td>\n",
       "      <td>2754.4</td>\n",
       "      <td>2188.0</td>\n",
       "      <td>2011.0</td>\n",
       "    </tr>\n",
       "    <tr>\n",
       "      <th>152930</th>\n",
       "      <td>AK</td>\n",
       "      <td>Northwest Arctic Borough</td>\n",
       "      <td>2.0</td>\n",
       "      <td>188.0</td>\n",
       "      <td>Sexually transmitted infections</td>\n",
       "      <td>45.0</td>\n",
       "      <td>206.0</td>\n",
       "      <td>7523.0</td>\n",
       "      <td>2738.3</td>\n",
       "      <td>2188.0</td>\n",
       "      <td>2010.0</td>\n",
       "    </tr>\n",
       "    <tr>\n",
       "      <th>152959</th>\n",
       "      <td>AK</td>\n",
       "      <td>Wade Hampton Census Area</td>\n",
       "      <td>2.0</td>\n",
       "      <td>270.0</td>\n",
       "      <td>Sexually transmitted infections</td>\n",
       "      <td>45.0</td>\n",
       "      <td>207.0</td>\n",
       "      <td>7662.0</td>\n",
       "      <td>2701.6</td>\n",
       "      <td>2270.0</td>\n",
       "      <td>2011.0</td>\n",
       "    </tr>\n",
       "  </tbody>\n",
       "</table>\n",
       "</div>"
      ],
      "text/plain": [
       "       state                    county  state_code  county_code  \\\n",
       "152920    AK          Nome Census Area         2.0        180.0   \n",
       "152958    AK  Wade Hampton Census Area         2.0        270.0   \n",
       "152931    AK  Northwest Arctic Borough         2.0        188.0   \n",
       "152930    AK  Northwest Arctic Borough         2.0        188.0   \n",
       "152959    AK  Wade Hampton Census Area         2.0        270.0   \n",
       "\n",
       "                           measure_name  measure_id  numerator  denominator  \\\n",
       "152920  Sexually transmitted infections        45.0      267.0       9492.0   \n",
       "152958  Sexually transmitted infections        45.0      209.0       7459.0   \n",
       "152931  Sexually transmitted infections        45.0      213.0       7733.0   \n",
       "152930  Sexually transmitted infections        45.0      206.0       7523.0   \n",
       "152959  Sexually transmitted infections        45.0      207.0       7662.0   \n",
       "\n",
       "        raw_value  fips_code  start_year  \n",
       "152920     2812.9     2180.0      2010.0  \n",
       "152958     2802.0     2270.0      2010.0  \n",
       "152931     2754.4     2188.0      2011.0  \n",
       "152930     2738.3     2188.0      2010.0  \n",
       "152959     2701.6     2270.0      2011.0  "
      ]
     },
     "execution_count": 184,
     "metadata": {},
     "output_type": "execute_result"
    }
   ],
   "source": [
    "# Top five records with highest raw_values.\n",
    "\n",
    "df1.sort_values('raw_value', ascending=False).head()"
   ]
  },
  {
   "cell_type": "code",
   "execution_count": 130,
   "metadata": {},
   "outputs": [
    {
     "data": {
      "text/plain": [
       "(165171, 11)"
      ]
     },
     "execution_count": 130,
     "metadata": {},
     "output_type": "execute_result"
    },
    {
     "data": {
      "image/png": "[encoded data removed]",
      "text/plain": [
       "<Figure size 864x216 with 1 Axes>"
      ]
     },
     "metadata": {
      "needs_background": "light"
     },
     "output_type": "display_data"
    }
   ],
   "source": [
    "df2 = df[df['start_year'].isin([2008,2007,2006,2004,2005,2003,2002])]\n",
    "\n",
    "fig = plt.figure(figsize=(12,3))\n",
    "ax = fig.add_subplot(111)\n",
    "plt.hist(df2.raw_value, bins=200)\n",
    "ax.set_yscale('log')\n",
    "df2.shape"
   ]
  },
  {
   "cell_type": "code",
   "execution_count": 185,
   "metadata": {},
   "outputs": [
    {
     "data": {
      "text/html": [
       "<div>\n",
       "<style scoped>\n",
       "    .dataframe tbody tr th:only-of-type {\n",
       "        vertical-align: middle;\n",
       "    }\n",
       "\n",
       "    .dataframe tbody tr th {\n",
       "        vertical-align: top;\n",
       "    }\n",
       "\n",
       "    .dataframe thead th {\n",
       "        text-align: right;\n",
       "    }\n",
       "</style>\n",
       "<table border=\"1\" class=\"dataframe\">\n",
       "  <thead>\n",
       "    <tr style=\"text-align: right;\">\n",
       "      <th></th>\n",
       "      <th>state</th>\n",
       "      <th>county</th>\n",
       "      <th>state_code</th>\n",
       "      <th>county_code</th>\n",
       "      <th>measure_name</th>\n",
       "      <th>measure_id</th>\n",
       "      <th>numerator</th>\n",
       "      <th>denominator</th>\n",
       "      <th>raw_value</th>\n",
       "      <th>fips_code</th>\n",
       "      <th>start_year</th>\n",
       "    </tr>\n",
       "  </thead>\n",
       "  <tbody>\n",
       "    <tr>\n",
       "      <th>27258</th>\n",
       "      <td>SD</td>\n",
       "      <td>Mellette County</td>\n",
       "      <td>46.0</td>\n",
       "      <td>95.0</td>\n",
       "      <td>Premature Death</td>\n",
       "      <td>1.0</td>\n",
       "      <td>54.0</td>\n",
       "      <td>NaN</td>\n",
       "      <td>28433.300</td>\n",
       "      <td>46095.0</td>\n",
       "      <td>2003.0</td>\n",
       "    </tr>\n",
       "    <tr>\n",
       "      <th>27334</th>\n",
       "      <td>SD</td>\n",
       "      <td>Shannon County</td>\n",
       "      <td>46.0</td>\n",
       "      <td>113.0</td>\n",
       "      <td>Premature Death</td>\n",
       "      <td>1.0</td>\n",
       "      <td>311.0</td>\n",
       "      <td>NaN</td>\n",
       "      <td>27178.700</td>\n",
       "      <td>46113.0</td>\n",
       "      <td>2002.0</td>\n",
       "    </tr>\n",
       "    <tr>\n",
       "      <th>27335</th>\n",
       "      <td>SD</td>\n",
       "      <td>Shannon County</td>\n",
       "      <td>46.0</td>\n",
       "      <td>113.0</td>\n",
       "      <td>Premature Death</td>\n",
       "      <td>1.0</td>\n",
       "      <td>311.0</td>\n",
       "      <td>NaN</td>\n",
       "      <td>26489.600</td>\n",
       "      <td>46113.0</td>\n",
       "      <td>2003.0</td>\n",
       "    </tr>\n",
       "    <tr>\n",
       "      <th>27336</th>\n",
       "      <td>SD</td>\n",
       "      <td>Shannon County</td>\n",
       "      <td>46.0</td>\n",
       "      <td>113.0</td>\n",
       "      <td>Premature Death</td>\n",
       "      <td>1.0</td>\n",
       "      <td>307.0</td>\n",
       "      <td>NaN</td>\n",
       "      <td>26281.428</td>\n",
       "      <td>46113.0</td>\n",
       "      <td>2004.0</td>\n",
       "    </tr>\n",
       "    <tr>\n",
       "      <th>22931</th>\n",
       "      <td>ND</td>\n",
       "      <td>Sioux County</td>\n",
       "      <td>38.0</td>\n",
       "      <td>85.0</td>\n",
       "      <td>Premature Death</td>\n",
       "      <td>1.0</td>\n",
       "      <td>105.0</td>\n",
       "      <td>NaN</td>\n",
       "      <td>25367.021</td>\n",
       "      <td>38085.0</td>\n",
       "      <td>2007.0</td>\n",
       "    </tr>\n",
       "  </tbody>\n",
       "</table>\n",
       "</div>"
      ],
      "text/plain": [
       "      state           county  state_code  county_code     measure_name  \\\n",
       "27258    SD  Mellette County        46.0         95.0  Premature Death   \n",
       "27334    SD   Shannon County        46.0        113.0  Premature Death   \n",
       "27335    SD   Shannon County        46.0        113.0  Premature Death   \n",
       "27336    SD   Shannon County        46.0        113.0  Premature Death   \n",
       "22931    ND     Sioux County        38.0         85.0  Premature Death   \n",
       "\n",
       "       measure_id  numerator  denominator  raw_value  fips_code  start_year  \n",
       "27258         1.0       54.0          NaN  28433.300    46095.0      2003.0  \n",
       "27334         1.0      311.0          NaN  27178.700    46113.0      2002.0  \n",
       "27335         1.0      311.0          NaN  26489.600    46113.0      2003.0  \n",
       "27336         1.0      307.0          NaN  26281.428    46113.0      2004.0  \n",
       "22931         1.0      105.0          NaN  25367.021    38085.0      2007.0  "
      ]
     },
     "execution_count": 185,
     "metadata": {},
     "output_type": "execute_result"
    }
   ],
   "source": [
    "# Top five records with highest raw_values.\n",
    "\n",
    "df2.sort_values('raw_value', ascending=False).head()"
   ]
  },
  {
   "cell_type": "code",
   "execution_count": 172,
   "metadata": {},
   "outputs": [
    {
     "data": {
      "text/plain": [
       "(14369, 11)"
      ]
     },
     "execution_count": 172,
     "metadata": {},
     "output_type": "execute_result"
    },
    {
     "data": {
      "image/png": "[encoded data removed]",
      "text/plain": [
       "<Figure size 864x216 with 1 Axes>"
      ]
     },
     "metadata": {
      "needs_background": "light"
     },
     "output_type": "display_data"
    }
   ],
   "source": [
    "df3 = df[df['start_year'].isin([1997,1998,1999,2001,2000])]\n",
    "\n",
    "fig = plt.figure(figsize=(12,3))\n",
    "ax = fig.add_subplot(111)\n",
    "plt.hist(df3.raw_value, bins=200)\n",
    "ax.set_yscale('log')\n",
    "df3.shape"
   ]
  },
  {
   "cell_type": "code",
   "execution_count": 186,
   "metadata": {},
   "outputs": [
    {
     "data": {
      "text/html": [
       "<div>\n",
       "<style scoped>\n",
       "    .dataframe tbody tr th:only-of-type {\n",
       "        vertical-align: middle;\n",
       "    }\n",
       "\n",
       "    .dataframe tbody tr th {\n",
       "        vertical-align: top;\n",
       "    }\n",
       "\n",
       "    .dataframe thead th {\n",
       "        text-align: right;\n",
       "    }\n",
       "</style>\n",
       "<table border=\"1\" class=\"dataframe\">\n",
       "  <thead>\n",
       "    <tr style=\"text-align: right;\">\n",
       "      <th></th>\n",
       "      <th>state</th>\n",
       "      <th>county</th>\n",
       "      <th>state_code</th>\n",
       "      <th>county_code</th>\n",
       "      <th>measure_name</th>\n",
       "      <th>measure_id</th>\n",
       "      <th>numerator</th>\n",
       "      <th>denominator</th>\n",
       "      <th>raw_value</th>\n",
       "      <th>fips_code</th>\n",
       "      <th>start_year</th>\n",
       "    </tr>\n",
       "  </thead>\n",
       "  <tbody>\n",
       "    <tr>\n",
       "      <th>535</th>\n",
       "      <td>AK</td>\n",
       "      <td>Lake and Peninsula Borough</td>\n",
       "      <td>2.0</td>\n",
       "      <td>164.0</td>\n",
       "      <td>Premature Death</td>\n",
       "      <td>1.0</td>\n",
       "      <td>48.0</td>\n",
       "      <td>NaN</td>\n",
       "      <td>32810.4</td>\n",
       "      <td>2164.0</td>\n",
       "      <td>2000.0</td>\n",
       "    </tr>\n",
       "    <tr>\n",
       "      <th>26941</th>\n",
       "      <td>SD</td>\n",
       "      <td>Buffalo County</td>\n",
       "      <td>46.0</td>\n",
       "      <td>17.0</td>\n",
       "      <td>Premature Death</td>\n",
       "      <td>1.0</td>\n",
       "      <td>54.0</td>\n",
       "      <td>NaN</td>\n",
       "      <td>32053.9</td>\n",
       "      <td>46017.0</td>\n",
       "      <td>1999.0</td>\n",
       "    </tr>\n",
       "    <tr>\n",
       "      <th>534</th>\n",
       "      <td>AK</td>\n",
       "      <td>Lake and Peninsula Borough</td>\n",
       "      <td>2.0</td>\n",
       "      <td>164.0</td>\n",
       "      <td>Premature Death</td>\n",
       "      <td>1.0</td>\n",
       "      <td>46.0</td>\n",
       "      <td>NaN</td>\n",
       "      <td>31086.4</td>\n",
       "      <td>2164.0</td>\n",
       "      <td>1999.0</td>\n",
       "    </tr>\n",
       "    <tr>\n",
       "      <th>26942</th>\n",
       "      <td>SD</td>\n",
       "      <td>Buffalo County</td>\n",
       "      <td>46.0</td>\n",
       "      <td>17.0</td>\n",
       "      <td>Premature Death</td>\n",
       "      <td>1.0</td>\n",
       "      <td>50.0</td>\n",
       "      <td>NaN</td>\n",
       "      <td>31049.2</td>\n",
       "      <td>46017.0</td>\n",
       "      <td>2000.0</td>\n",
       "    </tr>\n",
       "    <tr>\n",
       "      <th>26940</th>\n",
       "      <td>SD</td>\n",
       "      <td>Buffalo County</td>\n",
       "      <td>46.0</td>\n",
       "      <td>17.0</td>\n",
       "      <td>Premature Death</td>\n",
       "      <td>1.0</td>\n",
       "      <td>52.0</td>\n",
       "      <td>NaN</td>\n",
       "      <td>29193.4</td>\n",
       "      <td>46017.0</td>\n",
       "      <td>1998.0</td>\n",
       "    </tr>\n",
       "  </tbody>\n",
       "</table>\n",
       "</div>"
      ],
      "text/plain": [
       "      state                      county  state_code  county_code  \\\n",
       "535      AK  Lake and Peninsula Borough         2.0        164.0   \n",
       "26941    SD              Buffalo County        46.0         17.0   \n",
       "534      AK  Lake and Peninsula Borough         2.0        164.0   \n",
       "26942    SD              Buffalo County        46.0         17.0   \n",
       "26940    SD              Buffalo County        46.0         17.0   \n",
       "\n",
       "          measure_name  measure_id  numerator  denominator  raw_value  \\\n",
       "535    Premature Death         1.0       48.0          NaN    32810.4   \n",
       "26941  Premature Death         1.0       54.0          NaN    32053.9   \n",
       "534    Premature Death         1.0       46.0          NaN    31086.4   \n",
       "26942  Premature Death         1.0       50.0          NaN    31049.2   \n",
       "26940  Premature Death         1.0       52.0          NaN    29193.4   \n",
       "\n",
       "       fips_code  start_year  \n",
       "535       2164.0      2000.0  \n",
       "26941    46017.0      1999.0  \n",
       "534       2164.0      1999.0  \n",
       "26942    46017.0      2000.0  \n",
       "26940    46017.0      1998.0  "
      ]
     },
     "execution_count": 186,
     "metadata": {},
     "output_type": "execute_result"
    }
   ],
   "source": [
    "# Top five records with highest raw_values.\n",
    "\n",
    "df3.sort_values('raw_value', ascending=False).head()"
   ]
  },
  {
   "cell_type": "code",
   "execution_count": 155,
   "metadata": {},
   "outputs": [
    {
     "data": {
      "text/plain": [
       "(3218, 11)"
      ]
     },
     "execution_count": 155,
     "metadata": {},
     "output_type": "execute_result"
    },
    {
     "data": {
      "image/png": "[encoded data removed]",
      "text/plain": [
       "<Figure size 864x216 with 1 Axes>"
      ]
     },
     "metadata": {
      "needs_background": "light"
     },
     "output_type": "display_data"
    }
   ],
   "source": [
    "df4 = df[df['start_year']==2012]\n",
    "\n",
    "fig = plt.figure(figsize=(12,3))\n",
    "ax = fig.add_subplot(111)\n",
    "plt.hist(df4.raw_value, bins=200)\n",
    "ax.set_yscale('log')\n",
    "\n",
    "df4.shape"
   ]
  },
  {
   "cell_type": "code",
   "execution_count": 187,
   "metadata": {},
   "outputs": [
    {
     "data": {
      "text/html": [
       "<div>\n",
       "<style scoped>\n",
       "    .dataframe tbody tr th:only-of-type {\n",
       "        vertical-align: middle;\n",
       "    }\n",
       "\n",
       "    .dataframe tbody tr th {\n",
       "        vertical-align: top;\n",
       "    }\n",
       "\n",
       "    .dataframe thead th {\n",
       "        text-align: right;\n",
       "    }\n",
       "</style>\n",
       "<table border=\"1\" class=\"dataframe\">\n",
       "  <thead>\n",
       "    <tr style=\"text-align: right;\">\n",
       "      <th></th>\n",
       "      <th>state</th>\n",
       "      <th>county</th>\n",
       "      <th>state_code</th>\n",
       "      <th>county_code</th>\n",
       "      <th>measure_name</th>\n",
       "      <th>measure_id</th>\n",
       "      <th>numerator</th>\n",
       "      <th>denominator</th>\n",
       "      <th>raw_value</th>\n",
       "      <th>fips_code</th>\n",
       "      <th>start_year</th>\n",
       "    </tr>\n",
       "  </thead>\n",
       "  <tbody>\n",
       "    <tr>\n",
       "      <th>37951</th>\n",
       "      <td>CA</td>\n",
       "      <td>Imperial County</td>\n",
       "      <td>6.0</td>\n",
       "      <td>25.0</td>\n",
       "      <td>Unemployment</td>\n",
       "      <td>23.0</td>\n",
       "      <td>22132.0</td>\n",
       "      <td>78282.0</td>\n",
       "      <td>0.282721</td>\n",
       "      <td>6025.0</td>\n",
       "      <td>2012.0</td>\n",
       "    </tr>\n",
       "    <tr>\n",
       "      <th>36961</th>\n",
       "      <td>AZ</td>\n",
       "      <td>Yuma County</td>\n",
       "      <td>4.0</td>\n",
       "      <td>27.0</td>\n",
       "      <td>Unemployment</td>\n",
       "      <td>23.0</td>\n",
       "      <td>25277.0</td>\n",
       "      <td>92015.0</td>\n",
       "      <td>0.274705</td>\n",
       "      <td>4027.0</td>\n",
       "      <td>2012.0</td>\n",
       "    </tr>\n",
       "    <tr>\n",
       "      <th>70809</th>\n",
       "      <td>PR</td>\n",
       "      <td>Salinas Municipio</td>\n",
       "      <td>72.0</td>\n",
       "      <td>123.0</td>\n",
       "      <td>Unemployment</td>\n",
       "      <td>23.0</td>\n",
       "      <td>2061.0</td>\n",
       "      <td>8367.0</td>\n",
       "      <td>0.246325</td>\n",
       "      <td>72123.0</td>\n",
       "      <td>2012.0</td>\n",
       "    </tr>\n",
       "    <tr>\n",
       "      <th>70801</th>\n",
       "      <td>PR</td>\n",
       "      <td>Orocovis Municipio</td>\n",
       "      <td>72.0</td>\n",
       "      <td>107.0</td>\n",
       "      <td>Unemployment</td>\n",
       "      <td>23.0</td>\n",
       "      <td>1198.0</td>\n",
       "      <td>5120.0</td>\n",
       "      <td>0.233984</td>\n",
       "      <td>72107.0</td>\n",
       "      <td>2012.0</td>\n",
       "    </tr>\n",
       "    <tr>\n",
       "      <th>70747</th>\n",
       "      <td>PR</td>\n",
       "      <td>Adjuntas Municipio</td>\n",
       "      <td>72.0</td>\n",
       "      <td>1.0</td>\n",
       "      <td>Unemployment</td>\n",
       "      <td>23.0</td>\n",
       "      <td>1034.0</td>\n",
       "      <td>4466.0</td>\n",
       "      <td>0.231527</td>\n",
       "      <td>72001.0</td>\n",
       "      <td>2012.0</td>\n",
       "    </tr>\n",
       "  </tbody>\n",
       "</table>\n",
       "</div>"
      ],
      "text/plain": [
       "      state              county  state_code  county_code  measure_name  \\\n",
       "37951    CA     Imperial County         6.0         25.0  Unemployment   \n",
       "36961    AZ         Yuma County         4.0         27.0  Unemployment   \n",
       "70809    PR   Salinas Municipio        72.0        123.0  Unemployment   \n",
       "70801    PR  Orocovis Municipio        72.0        107.0  Unemployment   \n",
       "70747    PR  Adjuntas Municipio        72.0          1.0  Unemployment   \n",
       "\n",
       "       measure_id  numerator  denominator  raw_value  fips_code  start_year  \n",
       "37951        23.0    22132.0      78282.0   0.282721     6025.0      2012.0  \n",
       "36961        23.0    25277.0      92015.0   0.274705     4027.0      2012.0  \n",
       "70809        23.0     2061.0       8367.0   0.246325    72123.0      2012.0  \n",
       "70801        23.0     1198.0       5120.0   0.233984    72107.0      2012.0  \n",
       "70747        23.0     1034.0       4466.0   0.231527    72001.0      2012.0  "
      ]
     },
     "execution_count": 187,
     "metadata": {},
     "output_type": "execute_result"
    }
   ],
   "source": [
    "# Top five records with highest raw_values in year 2012.\n",
    "\n",
    "df4.sort_values('raw_value', ascending=False).head()"
   ]
  },
  {
   "cell_type": "markdown",
   "metadata": {},
   "source": [
    "### <b>Most frequent occurrence of the measures in different states in different groups"
   ]
  },
  {
   "cell_type": "code",
   "execution_count": 255,
   "metadata": {},
   "outputs": [
    {
     "data": {
      "text/html": [
       "<div>\n",
       "<style scoped>\n",
       "    .dataframe tbody tr th:only-of-type {\n",
       "        vertical-align: middle;\n",
       "    }\n",
       "\n",
       "    .dataframe tbody tr th {\n",
       "        vertical-align: top;\n",
       "    }\n",
       "\n",
       "    .dataframe thead th {\n",
       "        text-align: right;\n",
       "    }\n",
       "</style>\n",
       "<table border=\"1\" class=\"dataframe\">\n",
       "  <thead>\n",
       "    <tr style=\"text-align: right;\">\n",
       "      <th></th>\n",
       "      <th>measure_name</th>\n",
       "      <th>state</th>\n",
       "      <th>county</th>\n",
       "      <th>state_code</th>\n",
       "      <th>county_code</th>\n",
       "      <th>measure_id</th>\n",
       "      <th>numerator</th>\n",
       "      <th>denominator</th>\n",
       "      <th>raw_value</th>\n",
       "      <th>fips_code</th>\n",
       "      <th>start_year</th>\n",
       "    </tr>\n",
       "  </thead>\n",
       "  <tbody>\n",
       "    <tr>\n",
       "      <th>94</th>\n",
       "      <td>Children in poverty</td>\n",
       "      <td>TX</td>\n",
       "      <td>762</td>\n",
       "      <td>762</td>\n",
       "      <td>762</td>\n",
       "      <td>762</td>\n",
       "      <td>762</td>\n",
       "      <td>0</td>\n",
       "      <td>762</td>\n",
       "      <td>762</td>\n",
       "      <td>762</td>\n",
       "    </tr>\n",
       "    <tr>\n",
       "      <th>142</th>\n",
       "      <td>Daily fine particulate matter</td>\n",
       "      <td>TX</td>\n",
       "      <td>762</td>\n",
       "      <td>762</td>\n",
       "      <td>762</td>\n",
       "      <td>762</td>\n",
       "      <td>0</td>\n",
       "      <td>0</td>\n",
       "      <td>762</td>\n",
       "      <td>762</td>\n",
       "      <td>762</td>\n",
       "    </tr>\n",
       "    <tr>\n",
       "      <th>448</th>\n",
       "      <td>Unemployment</td>\n",
       "      <td>TX</td>\n",
       "      <td>762</td>\n",
       "      <td>762</td>\n",
       "      <td>762</td>\n",
       "      <td>762</td>\n",
       "      <td>762</td>\n",
       "      <td>762</td>\n",
       "      <td>762</td>\n",
       "      <td>762</td>\n",
       "      <td>762</td>\n",
       "    </tr>\n",
       "    <tr>\n",
       "      <th>397</th>\n",
       "      <td>Sexually transmitted infections</td>\n",
       "      <td>TX</td>\n",
       "      <td>742</td>\n",
       "      <td>742</td>\n",
       "      <td>742</td>\n",
       "      <td>742</td>\n",
       "      <td>742</td>\n",
       "      <td>731</td>\n",
       "      <td>742</td>\n",
       "      <td>742</td>\n",
       "      <td>742</td>\n",
       "    </tr>\n",
       "    <tr>\n",
       "      <th>193</th>\n",
       "      <td>Diabetic screening</td>\n",
       "      <td>TX</td>\n",
       "      <td>741</td>\n",
       "      <td>741</td>\n",
       "      <td>741</td>\n",
       "      <td>741</td>\n",
       "      <td>0</td>\n",
       "      <td>741</td>\n",
       "      <td>741</td>\n",
       "      <td>741</td>\n",
       "      <td>741</td>\n",
       "    </tr>\n",
       "  </tbody>\n",
       "</table>\n",
       "</div>"
      ],
      "text/plain": [
       "                        measure_name state  county  state_code  county_code  \\\n",
       "94               Children in poverty    TX     762         762          762   \n",
       "142    Daily fine particulate matter    TX     762         762          762   \n",
       "448                     Unemployment    TX     762         762          762   \n",
       "397  Sexually transmitted infections    TX     742         742          742   \n",
       "193               Diabetic screening    TX     741         741          741   \n",
       "\n",
       "     measure_id  numerator  denominator  raw_value  fips_code  start_year  \n",
       "94          762        762            0        762        762         762  \n",
       "142         762          0            0        762        762         762  \n",
       "448         762        762          762        762        762         762  \n",
       "397         742        742          731        742        742         742  \n",
       "193         741          0          741        741        741         741  "
      ]
     },
     "execution_count": 255,
     "metadata": {},
     "output_type": "execute_result"
    }
   ],
   "source": [
    "# Top five measures with the most occurrence in different states in group 1\n",
    "\n",
    "df1_state = df1.groupby(['measure_name','state']).count().reset_index()\n",
    "d1 = df1_state.sort_values('raw_value', ascending=False).head()\n",
    "d1"
   ]
  },
  {
   "cell_type": "code",
   "execution_count": 258,
   "metadata": {},
   "outputs": [
    {
     "name": "stdout",
     "output_type": "stream",
     "text": [
      "(9411, 11)\n",
      "(9321, 11)\n",
      "(9420, 11)\n",
      "(9232, 11)\n",
      "(9272, 11)\n"
     ]
    }
   ],
   "source": [
    "print(df1[df1.measure_name==d1.iloc[0,0]].shape)\n",
    "print(df1[df1.measure_name==d1.iloc[1,0]].shape)\n",
    "print(df1[df1.measure_name==d1.iloc[2,0]].shape)\n",
    "print(df1[df1.measure_name==d1.iloc[3,0]].shape)\n",
    "print(df1[df1.measure_name==d1.iloc[4,0]].shape)"
   ]
  },
  {
   "cell_type": "code",
   "execution_count": 259,
   "metadata": {},
   "outputs": [
    {
     "data": {
      "text/html": [
       "<div>\n",
       "<style scoped>\n",
       "    .dataframe tbody tr th:only-of-type {\n",
       "        vertical-align: middle;\n",
       "    }\n",
       "\n",
       "    .dataframe tbody tr th {\n",
       "        vertical-align: top;\n",
       "    }\n",
       "\n",
       "    .dataframe thead th {\n",
       "        text-align: right;\n",
       "    }\n",
       "</style>\n",
       "<table border=\"1\" class=\"dataframe\">\n",
       "  <thead>\n",
       "    <tr style=\"text-align: right;\">\n",
       "      <th></th>\n",
       "      <th>measure_name</th>\n",
       "      <th>state</th>\n",
       "      <th>county</th>\n",
       "      <th>state_code</th>\n",
       "      <th>county_code</th>\n",
       "      <th>measure_id</th>\n",
       "      <th>numerator</th>\n",
       "      <th>denominator</th>\n",
       "      <th>raw_value</th>\n",
       "      <th>fips_code</th>\n",
       "      <th>start_year</th>\n",
       "    </tr>\n",
       "  </thead>\n",
       "  <tbody>\n",
       "    <tr>\n",
       "      <th>499</th>\n",
       "      <td>Unemployment</td>\n",
       "      <td>TX</td>\n",
       "      <td>1778</td>\n",
       "      <td>1778</td>\n",
       "      <td>1778</td>\n",
       "      <td>1778</td>\n",
       "      <td>1778</td>\n",
       "      <td>1778</td>\n",
       "      <td>1778</td>\n",
       "      <td>1778</td>\n",
       "      <td>1778</td>\n",
       "    </tr>\n",
       "    <tr>\n",
       "      <th>94</th>\n",
       "      <td>Children in poverty</td>\n",
       "      <td>TX</td>\n",
       "      <td>1778</td>\n",
       "      <td>1778</td>\n",
       "      <td>1778</td>\n",
       "      <td>1778</td>\n",
       "      <td>1778</td>\n",
       "      <td>0</td>\n",
       "      <td>1778</td>\n",
       "      <td>1778</td>\n",
       "      <td>1778</td>\n",
       "    </tr>\n",
       "    <tr>\n",
       "      <th>346</th>\n",
       "      <td>Premature Death</td>\n",
       "      <td>TX</td>\n",
       "      <td>1627</td>\n",
       "      <td>1627</td>\n",
       "      <td>1627</td>\n",
       "      <td>1627</td>\n",
       "      <td>1627</td>\n",
       "      <td>0</td>\n",
       "      <td>1627</td>\n",
       "      <td>1627</td>\n",
       "      <td>1627</td>\n",
       "    </tr>\n",
       "    <tr>\n",
       "      <th>142</th>\n",
       "      <td>Daily fine particulate matter</td>\n",
       "      <td>TX</td>\n",
       "      <td>1524</td>\n",
       "      <td>1524</td>\n",
       "      <td>1524</td>\n",
       "      <td>1524</td>\n",
       "      <td>0</td>\n",
       "      <td>0</td>\n",
       "      <td>1524</td>\n",
       "      <td>1524</td>\n",
       "      <td>1524</td>\n",
       "    </tr>\n",
       "    <tr>\n",
       "      <th>601</th>\n",
       "      <td>Violent crime rate</td>\n",
       "      <td>TX</td>\n",
       "      <td>1523</td>\n",
       "      <td>1523</td>\n",
       "      <td>1523</td>\n",
       "      <td>1523</td>\n",
       "      <td>1523</td>\n",
       "      <td>1523</td>\n",
       "      <td>1523</td>\n",
       "      <td>1523</td>\n",
       "      <td>1523</td>\n",
       "    </tr>\n",
       "  </tbody>\n",
       "</table>\n",
       "</div>"
      ],
      "text/plain": [
       "                      measure_name state  county  state_code  county_code  \\\n",
       "499                   Unemployment    TX    1778        1778         1778   \n",
       "94             Children in poverty    TX    1778        1778         1778   \n",
       "346                Premature Death    TX    1627        1627         1627   \n",
       "142  Daily fine particulate matter    TX    1524        1524         1524   \n",
       "601             Violent crime rate    TX    1523        1523         1523   \n",
       "\n",
       "     measure_id  numerator  denominator  raw_value  fips_code  start_year  \n",
       "499        1778       1778         1778       1778       1778        1778  \n",
       "94         1778       1778            0       1778       1778        1778  \n",
       "346        1627       1627            0       1627       1627        1627  \n",
       "142        1524          0            0       1524       1524        1524  \n",
       "601        1523       1523         1523       1523       1523        1523  "
      ]
     },
     "execution_count": 259,
     "metadata": {},
     "output_type": "execute_result"
    }
   ],
   "source": [
    "# Top five measures with the most occurrence in different states in group 2\n",
    "\n",
    "df2_state = df2.groupby(['measure_name','state']).count().reset_index()\n",
    "d2 = df2_state.sort_values('raw_value', ascending=False).head()\n",
    "d2"
   ]
  },
  {
   "cell_type": "code",
   "execution_count": 260,
   "metadata": {},
   "outputs": [
    {
     "name": "stdout",
     "output_type": "stream",
     "text": [
      "(21966, 11)\n",
      "(21982, 11)\n",
      "(21083, 11)\n",
      "(18642, 11)\n",
      "(17180, 11)\n"
     ]
    }
   ],
   "source": [
    "print(df2[df2.measure_name==d2.iloc[0,0]].shape)\n",
    "print(df2[df2.measure_name==d2.iloc[1,0]].shape)\n",
    "print(df2[df2.measure_name==d2.iloc[2,0]].shape)\n",
    "print(df2[df2.measure_name==d2.iloc[3,0]].shape)\n",
    "print(df2[df2.measure_name==d2.iloc[4,0]].shape)"
   ]
  },
  {
   "cell_type": "code",
   "execution_count": 261,
   "metadata": {},
   "outputs": [
    {
     "data": {
      "text/html": [
       "<div>\n",
       "<style scoped>\n",
       "    .dataframe tbody tr th:only-of-type {\n",
       "        vertical-align: middle;\n",
       "    }\n",
       "\n",
       "    .dataframe tbody tr th {\n",
       "        vertical-align: top;\n",
       "    }\n",
       "\n",
       "    .dataframe thead th {\n",
       "        text-align: right;\n",
       "    }\n",
       "</style>\n",
       "<table border=\"1\" class=\"dataframe\">\n",
       "  <thead>\n",
       "    <tr style=\"text-align: right;\">\n",
       "      <th></th>\n",
       "      <th>measure_name</th>\n",
       "      <th>state</th>\n",
       "      <th>county</th>\n",
       "      <th>state_code</th>\n",
       "      <th>county_code</th>\n",
       "      <th>measure_id</th>\n",
       "      <th>numerator</th>\n",
       "      <th>denominator</th>\n",
       "      <th>raw_value</th>\n",
       "      <th>fips_code</th>\n",
       "      <th>start_year</th>\n",
       "    </tr>\n",
       "  </thead>\n",
       "  <tbody>\n",
       "    <tr>\n",
       "      <th>43</th>\n",
       "      <td>Premature Death</td>\n",
       "      <td>TX</td>\n",
       "      <td>1064</td>\n",
       "      <td>1064</td>\n",
       "      <td>1064</td>\n",
       "      <td>1064</td>\n",
       "      <td>1064</td>\n",
       "      <td>0</td>\n",
       "      <td>1064</td>\n",
       "      <td>1064</td>\n",
       "      <td>1064</td>\n",
       "    </tr>\n",
       "    <tr>\n",
       "      <th>10</th>\n",
       "      <td>Premature Death</td>\n",
       "      <td>GA</td>\n",
       "      <td>771</td>\n",
       "      <td>771</td>\n",
       "      <td>771</td>\n",
       "      <td>771</td>\n",
       "      <td>771</td>\n",
       "      <td>0</td>\n",
       "      <td>771</td>\n",
       "      <td>771</td>\n",
       "      <td>771</td>\n",
       "    </tr>\n",
       "    <tr>\n",
       "      <th>45</th>\n",
       "      <td>Premature Death</td>\n",
       "      <td>VA</td>\n",
       "      <td>660</td>\n",
       "      <td>660</td>\n",
       "      <td>660</td>\n",
       "      <td>660</td>\n",
       "      <td>660</td>\n",
       "      <td>0</td>\n",
       "      <td>660</td>\n",
       "      <td>660</td>\n",
       "      <td>660</td>\n",
       "    </tr>\n",
       "    <tr>\n",
       "      <th>17</th>\n",
       "      <td>Premature Death</td>\n",
       "      <td>KY</td>\n",
       "      <td>595</td>\n",
       "      <td>595</td>\n",
       "      <td>595</td>\n",
       "      <td>595</td>\n",
       "      <td>595</td>\n",
       "      <td>0</td>\n",
       "      <td>595</td>\n",
       "      <td>595</td>\n",
       "      <td>595</td>\n",
       "    </tr>\n",
       "    <tr>\n",
       "      <th>24</th>\n",
       "      <td>Premature Death</td>\n",
       "      <td>MO</td>\n",
       "      <td>557</td>\n",
       "      <td>557</td>\n",
       "      <td>557</td>\n",
       "      <td>557</td>\n",
       "      <td>557</td>\n",
       "      <td>0</td>\n",
       "      <td>557</td>\n",
       "      <td>557</td>\n",
       "      <td>557</td>\n",
       "    </tr>\n",
       "  </tbody>\n",
       "</table>\n",
       "</div>"
      ],
      "text/plain": [
       "       measure_name state  county  state_code  county_code  measure_id  \\\n",
       "43  Premature Death    TX    1064        1064         1064        1064   \n",
       "10  Premature Death    GA     771         771          771         771   \n",
       "45  Premature Death    VA     660         660          660         660   \n",
       "17  Premature Death    KY     595         595          595         595   \n",
       "24  Premature Death    MO     557         557          557         557   \n",
       "\n",
       "    numerator  denominator  raw_value  fips_code  start_year  \n",
       "43       1064            0       1064       1064        1064  \n",
       "10        771            0        771        771         771  \n",
       "45        660            0        660        660         660  \n",
       "17        595            0        595        595         595  \n",
       "24        557            0        557        557         557  "
      ]
     },
     "execution_count": 261,
     "metadata": {},
     "output_type": "execute_result"
    }
   ],
   "source": [
    "# Top five measures with the most occurrence in different states in group 3\n",
    "\n",
    "df3_state = df3.groupby(['measure_name','state']).count().reset_index()\n",
    "d3 = df3_state.sort_values('raw_value', ascending=False).head()\n",
    "d3"
   ]
  },
  {
   "cell_type": "code",
   "execution_count": 262,
   "metadata": {},
   "outputs": [
    {
     "name": "stdout",
     "output_type": "stream",
     "text": [
      "(14369, 11)\n",
      "(14369, 11)\n",
      "(14369, 11)\n",
      "(14369, 11)\n",
      "(14369, 11)\n"
     ]
    }
   ],
   "source": [
    "print(df3[df3.measure_name==d3.iloc[0,0]].shape)\n",
    "print(df3[df3.measure_name==d3.iloc[1,0]].shape)\n",
    "print(df3[df3.measure_name==d3.iloc[2,0]].shape)\n",
    "print(df3[df3.measure_name==d3.iloc[3,0]].shape)\n",
    "print(df3[df3.measure_name==d3.iloc[4,0]].shape)"
   ]
  },
  {
   "cell_type": "code",
   "execution_count": 264,
   "metadata": {},
   "outputs": [
    {
     "data": {
      "text/html": [
       "<div>\n",
       "<style scoped>\n",
       "    .dataframe tbody tr th:only-of-type {\n",
       "        vertical-align: middle;\n",
       "    }\n",
       "\n",
       "    .dataframe tbody tr th {\n",
       "        vertical-align: top;\n",
       "    }\n",
       "\n",
       "    .dataframe thead th {\n",
       "        text-align: right;\n",
       "    }\n",
       "</style>\n",
       "<table border=\"1\" class=\"dataframe\">\n",
       "  <thead>\n",
       "    <tr style=\"text-align: right;\">\n",
       "      <th></th>\n",
       "      <th>measure_name</th>\n",
       "      <th>state</th>\n",
       "      <th>county</th>\n",
       "      <th>state_code</th>\n",
       "      <th>county_code</th>\n",
       "      <th>measure_id</th>\n",
       "      <th>numerator</th>\n",
       "      <th>denominator</th>\n",
       "      <th>raw_value</th>\n",
       "      <th>fips_code</th>\n",
       "      <th>start_year</th>\n",
       "    </tr>\n",
       "  </thead>\n",
       "  <tbody>\n",
       "    <tr>\n",
       "      <th>44</th>\n",
       "      <td>Unemployment</td>\n",
       "      <td>TX</td>\n",
       "      <td>254</td>\n",
       "      <td>254</td>\n",
       "      <td>254</td>\n",
       "      <td>254</td>\n",
       "      <td>254</td>\n",
       "      <td>254</td>\n",
       "      <td>254</td>\n",
       "      <td>254</td>\n",
       "      <td>254</td>\n",
       "    </tr>\n",
       "    <tr>\n",
       "      <th>10</th>\n",
       "      <td>Unemployment</td>\n",
       "      <td>GA</td>\n",
       "      <td>159</td>\n",
       "      <td>159</td>\n",
       "      <td>159</td>\n",
       "      <td>159</td>\n",
       "      <td>159</td>\n",
       "      <td>159</td>\n",
       "      <td>159</td>\n",
       "      <td>159</td>\n",
       "      <td>159</td>\n",
       "    </tr>\n",
       "    <tr>\n",
       "      <th>46</th>\n",
       "      <td>Unemployment</td>\n",
       "      <td>VA</td>\n",
       "      <td>134</td>\n",
       "      <td>134</td>\n",
       "      <td>134</td>\n",
       "      <td>134</td>\n",
       "      <td>134</td>\n",
       "      <td>134</td>\n",
       "      <td>134</td>\n",
       "      <td>134</td>\n",
       "      <td>134</td>\n",
       "    </tr>\n",
       "    <tr>\n",
       "      <th>17</th>\n",
       "      <td>Unemployment</td>\n",
       "      <td>KY</td>\n",
       "      <td>120</td>\n",
       "      <td>120</td>\n",
       "      <td>120</td>\n",
       "      <td>120</td>\n",
       "      <td>120</td>\n",
       "      <td>120</td>\n",
       "      <td>120</td>\n",
       "      <td>120</td>\n",
       "      <td>120</td>\n",
       "    </tr>\n",
       "    <tr>\n",
       "      <th>24</th>\n",
       "      <td>Unemployment</td>\n",
       "      <td>MO</td>\n",
       "      <td>115</td>\n",
       "      <td>115</td>\n",
       "      <td>115</td>\n",
       "      <td>115</td>\n",
       "      <td>115</td>\n",
       "      <td>115</td>\n",
       "      <td>115</td>\n",
       "      <td>115</td>\n",
       "      <td>115</td>\n",
       "    </tr>\n",
       "  </tbody>\n",
       "</table>\n",
       "</div>"
      ],
      "text/plain": [
       "    measure_name state  county  state_code  county_code  measure_id  \\\n",
       "44  Unemployment    TX     254         254          254         254   \n",
       "10  Unemployment    GA     159         159          159         159   \n",
       "46  Unemployment    VA     134         134          134         134   \n",
       "17  Unemployment    KY     120         120          120         120   \n",
       "24  Unemployment    MO     115         115          115         115   \n",
       "\n",
       "    numerator  denominator  raw_value  fips_code  start_year  \n",
       "44        254          254        254        254         254  \n",
       "10        159          159        159        159         159  \n",
       "46        134          134        134        134         134  \n",
       "17        120          120        120        120         120  \n",
       "24        115          115        115        115         115  "
      ]
     },
     "execution_count": 264,
     "metadata": {},
     "output_type": "execute_result"
    }
   ],
   "source": [
    "# Top five measures with the most occurrence in different states in group 4\n",
    "\n",
    "df4_state = df4.groupby(['measure_name','state']).count().reset_index()\n",
    "d4 = df4_state.sort_values('raw_value', ascending=False).head()\n",
    "d4"
   ]
  },
  {
   "cell_type": "code",
   "execution_count": 267,
   "metadata": {},
   "outputs": [
    {
     "name": "stdout",
     "output_type": "stream",
     "text": [
      "(3218, 11)\n"
     ]
    }
   ],
   "source": [
    "print(df4[df4.measure_name==d4.iloc[0,0]].shape)"
   ]
  },
  {
   "cell_type": "code",
   "execution_count": 268,
   "metadata": {},
   "outputs": [
    {
     "data": {
      "text/plain": [
       "Unemployment    3218\n",
       "Name: measure_name, dtype: int64"
      ]
     },
     "execution_count": 268,
     "metadata": {},
     "output_type": "execute_result"
    }
   ],
   "source": [
    "df4.measure_name.value_counts()"
   ]
  },
  {
   "cell_type": "code",
   "execution_count": null,
   "metadata": {},
   "outputs": [],
   "source": [
    "year 2012 only has data related to Unemployment"
   ]
  },
  {
   "cell_type": "code",
   "execution_count": 270,
   "metadata": {},
   "outputs": [
    {
     "data": {
      "text/plain": [
       "52"
      ]
     },
     "execution_count": 270,
     "metadata": {},
     "output_type": "execute_result"
    }
   ],
   "source": [
    "df4.state.value_counts().count()"
   ]
  },
  {
   "cell_type": "code",
   "execution_count": null,
   "metadata": {},
   "outputs": [],
   "source": []
  }
 ],
 "metadata": {
  "kernelspec": {
   "display_name": "Python 3",
   "language": "python",
   "name": "python3"
  },
  "language_info": {
   "codemirror_mode": {
    "name": "ipython",
    "version": 3
   },
   "file_extension": ".py",
   "mimetype": "text/x-python",
   "name": "python",
   "nbconvert_exporter": "python",
   "pygments_lexer": "ipython3",
   "version": "3.7.6"
  }
 },
 "nbformat": 4,
 "nbformat_minor": 4
}
