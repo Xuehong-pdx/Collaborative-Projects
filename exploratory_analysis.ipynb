{
 "cells": [
  {
   "cell_type": "markdown",
   "metadata": {},
   "source": [
    "### Importing data "
   ]
  },
  {
   "cell_type": "code",
   "execution_count": 2,
   "metadata": {},
   "outputs": [
    {
     "name": "stdout",
     "output_type": "stream",
     "text": [
      "(273898, 16)\n"
     ]
    },
    {
     "data": {
      "text/html": [
       "<div>\n",
       "<style scoped>\n",
       "    .dataframe tbody tr th:only-of-type {\n",
       "        vertical-align: middle;\n",
       "    }\n",
       "\n",
       "    .dataframe tbody tr th {\n",
       "        vertical-align: top;\n",
       "    }\n",
       "\n",
       "    .dataframe thead th {\n",
       "        text-align: right;\n",
       "    }\n",
       "</style>\n",
       "<table border=\"1\" class=\"dataframe\">\n",
       "  <thead>\n",
       "    <tr style=\"text-align: right;\">\n",
       "      <th></th>\n",
       "      <th>Unnamed: 0</th>\n",
       "      <th>state</th>\n",
       "      <th>county</th>\n",
       "      <th>state_code</th>\n",
       "      <th>county_code</th>\n",
       "      <th>measure_name</th>\n",
       "      <th>measure_id</th>\n",
       "      <th>numerator</th>\n",
       "      <th>denominator</th>\n",
       "      <th>raw_value</th>\n",
       "      <th>confidence_interval_lower</th>\n",
       "      <th>confidence_interval_upper</th>\n",
       "      <th>data_release_year</th>\n",
       "      <th>fips_code</th>\n",
       "      <th>start_year</th>\n",
       "      <th>end_year</th>\n",
       "    </tr>\n",
       "  </thead>\n",
       "  <tbody>\n",
       "    <tr>\n",
       "      <th>0</th>\n",
       "      <td>0</td>\n",
       "      <td>AL</td>\n",
       "      <td>Hale County</td>\n",
       "      <td>1.0</td>\n",
       "      <td>65.0</td>\n",
       "      <td>Premature Death</td>\n",
       "      <td>1.0</td>\n",
       "      <td>271.0</td>\n",
       "      <td>NaN</td>\n",
       "      <td>12228.624</td>\n",
       "      <td>10218.083</td>\n",
       "      <td>14239.165</td>\n",
       "      <td>2010.0</td>\n",
       "      <td>1065.0</td>\n",
       "      <td>2004.0</td>\n",
       "      <td>2006.0</td>\n",
       "    </tr>\n",
       "    <tr>\n",
       "      <th>1</th>\n",
       "      <td>1</td>\n",
       "      <td>AL</td>\n",
       "      <td>Hale County</td>\n",
       "      <td>1.0</td>\n",
       "      <td>65.0</td>\n",
       "      <td>Premature Death</td>\n",
       "      <td>1.0</td>\n",
       "      <td>278.0</td>\n",
       "      <td>NaN</td>\n",
       "      <td>11626.723</td>\n",
       "      <td>9767.516</td>\n",
       "      <td>13485.930</td>\n",
       "      <td>2011.0</td>\n",
       "      <td>1065.0</td>\n",
       "      <td>2005.0</td>\n",
       "      <td>2007.0</td>\n",
       "    </tr>\n",
       "    <tr>\n",
       "      <th>2</th>\n",
       "      <td>2</td>\n",
       "      <td>AL</td>\n",
       "      <td>Hale County</td>\n",
       "      <td>1.0</td>\n",
       "      <td>65.0</td>\n",
       "      <td>Premature Death</td>\n",
       "      <td>1.0</td>\n",
       "      <td>286.0</td>\n",
       "      <td>NaN</td>\n",
       "      <td>13522.955</td>\n",
       "      <td>11397.331</td>\n",
       "      <td>15648.579</td>\n",
       "      <td>2012.0</td>\n",
       "      <td>1065.0</td>\n",
       "      <td>2006.0</td>\n",
       "      <td>2008.0</td>\n",
       "    </tr>\n",
       "  </tbody>\n",
       "</table>\n",
       "</div>"
      ],
      "text/plain": [
       "   Unnamed: 0 state       county  state_code  county_code     measure_name  \\\n",
       "0           0    AL  Hale County         1.0         65.0  Premature Death   \n",
       "1           1    AL  Hale County         1.0         65.0  Premature Death   \n",
       "2           2    AL  Hale County         1.0         65.0  Premature Death   \n",
       "\n",
       "   measure_id  numerator  denominator  raw_value  confidence_interval_lower  \\\n",
       "0         1.0      271.0          NaN  12228.624                  10218.083   \n",
       "1         1.0      278.0          NaN  11626.723                   9767.516   \n",
       "2         1.0      286.0          NaN  13522.955                  11397.331   \n",
       "\n",
       "   confidence_interval_upper  data_release_year  fips_code  start_year  \\\n",
       "0                  14239.165             2010.0     1065.0      2004.0   \n",
       "1                  13485.930             2011.0     1065.0      2005.0   \n",
       "2                  15648.579             2012.0     1065.0      2006.0   \n",
       "\n",
       "   end_year  \n",
       "0    2006.0  \n",
       "1    2007.0  \n",
       "2    2008.0  "
      ]
     },
     "execution_count": 2,
     "metadata": {},
     "output_type": "execute_result"
    }
   ],
   "source": [
    "import pandas as pd\n",
    "import matplotlib.pyplot as plt\n",
    "\n",
    "df = pd.read_csv('\\\\Collaborative-Projects\\\\cleaned_ranking_2.csv')\n",
    "print(df.shape)\n",
    "df.head(3)"
   ]
  },
  {
   "cell_type": "code",
   "execution_count": 3,
   "metadata": {},
   "outputs": [
    {
     "data": {
      "text/plain": [
       "index                             0\n",
       "state                             0\n",
       "county                            0\n",
       "state_code                        0\n",
       "county_code                       0\n",
       "measure_name                      0\n",
       "measure_id                        0\n",
       "raw_value                         0\n",
       "fips_code                         0\n",
       "start_year                        0\n",
       "numerator                     77142\n",
       "denominator                   96440\n",
       "confidence_interval_lower    100473\n",
       "confidence_interval_upper    100473\n",
       "data_release_year            137092\n",
       "end_year                     205729\n",
       "dtype: int64"
      ]
     },
     "execution_count": 3,
     "metadata": {},
     "output_type": "execute_result"
    }
   ],
   "source": [
    "df = df.rename(columns = {'Unnamed: 0':'index'})\n",
    "df.isnull().sum().sort_values()"
   ]
  },
  {
   "cell_type": "code",
   "execution_count": 5,
   "metadata": {},
   "outputs": [],
   "source": [
    "df = df[['state', 'county', 'state_code', 'county_code', 'measure_name', 'measure_id', 'numerator', 'denominator', 'raw_value',\n",
    "        'fips_code', 'start_year', ]]"
   ]
  },
  {
   "cell_type": "code",
   "execution_count": 6,
   "metadata": {},
   "outputs": [
    {
     "data": {
      "text/html": [
       "<div>\n",
       "<style scoped>\n",
       "    .dataframe tbody tr th:only-of-type {\n",
       "        vertical-align: middle;\n",
       "    }\n",
       "\n",
       "    .dataframe tbody tr th {\n",
       "        vertical-align: top;\n",
       "    }\n",
       "\n",
       "    .dataframe thead th {\n",
       "        text-align: right;\n",
       "    }\n",
       "</style>\n",
       "<table border=\"1\" class=\"dataframe\">\n",
       "  <thead>\n",
       "    <tr style=\"text-align: right;\">\n",
       "      <th></th>\n",
       "      <th>state_code</th>\n",
       "      <th>county_code</th>\n",
       "      <th>measure_id</th>\n",
       "      <th>numerator</th>\n",
       "      <th>denominator</th>\n",
       "      <th>raw_value</th>\n",
       "      <th>fips_code</th>\n",
       "      <th>start_year</th>\n",
       "    </tr>\n",
       "  </thead>\n",
       "  <tbody>\n",
       "    <tr>\n",
       "      <th>count</th>\n",
       "      <td>273898.000000</td>\n",
       "      <td>273898.000000</td>\n",
       "      <td>273898.000000</td>\n",
       "      <td>1.967560e+05</td>\n",
       "      <td>1.774580e+05</td>\n",
       "      <td>273898.000000</td>\n",
       "      <td>273898.000000</td>\n",
       "      <td>273898.000000</td>\n",
       "    </tr>\n",
       "    <tr>\n",
       "      <th>mean</th>\n",
       "      <td>30.363387</td>\n",
       "      <td>101.741838</td>\n",
       "      <td>38.637150</td>\n",
       "      <td>7.729614e+03</td>\n",
       "      <td>8.580908e+04</td>\n",
       "      <td>1138.570435</td>\n",
       "      <td>30465.128939</td>\n",
       "      <td>2006.691119</td>\n",
       "    </tr>\n",
       "    <tr>\n",
       "      <th>std</th>\n",
       "      <td>15.156523</td>\n",
       "      <td>108.012610</td>\n",
       "      <td>37.451676</td>\n",
       "      <td>7.387473e+04</td>\n",
       "      <td>6.775931e+05</td>\n",
       "      <td>2921.284656</td>\n",
       "      <td>15174.872861</td>\n",
       "      <td>3.153091</td>\n",
       "    </tr>\n",
       "    <tr>\n",
       "      <th>min</th>\n",
       "      <td>1.000000</td>\n",
       "      <td>0.000000</td>\n",
       "      <td>1.000000</td>\n",
       "      <td>0.000000e+00</td>\n",
       "      <td>1.000000e+01</td>\n",
       "      <td>0.000000</td>\n",
       "      <td>1000.000000</td>\n",
       "      <td>1997.000000</td>\n",
       "    </tr>\n",
       "    <tr>\n",
       "      <th>25%</th>\n",
       "      <td>19.000000</td>\n",
       "      <td>33.000000</td>\n",
       "      <td>7.000000</td>\n",
       "      <td>2.050000e+02</td>\n",
       "      <td>2.056000e+03</td>\n",
       "      <td>0.219000</td>\n",
       "      <td>19000.000000</td>\n",
       "      <td>2005.000000</td>\n",
       "    </tr>\n",
       "    <tr>\n",
       "      <th>50%</th>\n",
       "      <td>29.000000</td>\n",
       "      <td>77.000000</td>\n",
       "      <td>24.000000</td>\n",
       "      <td>7.613200e+02</td>\n",
       "      <td>8.155000e+03</td>\n",
       "      <td>0.694000</td>\n",
       "      <td>29179.000000</td>\n",
       "      <td>2007.000000</td>\n",
       "    </tr>\n",
       "    <tr>\n",
       "      <th>75%</th>\n",
       "      <td>45.000000</td>\n",
       "      <td>133.000000</td>\n",
       "      <td>50.000000</td>\n",
       "      <td>2.512812e+03</td>\n",
       "      <td>2.735908e+04</td>\n",
       "      <td>107.000000</td>\n",
       "      <td>45079.000000</td>\n",
       "      <td>2009.000000</td>\n",
       "    </tr>\n",
       "    <tr>\n",
       "      <th>max</th>\n",
       "      <td>72.000000</td>\n",
       "      <td>840.000000</td>\n",
       "      <td>125.000000</td>\n",
       "      <td>6.829725e+06</td>\n",
       "      <td>3.769191e+07</td>\n",
       "      <td>32810.400000</td>\n",
       "      <td>72153.000000</td>\n",
       "      <td>2012.000000</td>\n",
       "    </tr>\n",
       "  </tbody>\n",
       "</table>\n",
       "</div>"
      ],
      "text/plain": [
       "          state_code    county_code     measure_id     numerator  \\\n",
       "count  273898.000000  273898.000000  273898.000000  1.967560e+05   \n",
       "mean       30.363387     101.741838      38.637150  7.729614e+03   \n",
       "std        15.156523     108.012610      37.451676  7.387473e+04   \n",
       "min         1.000000       0.000000       1.000000  0.000000e+00   \n",
       "25%        19.000000      33.000000       7.000000  2.050000e+02   \n",
       "50%        29.000000      77.000000      24.000000  7.613200e+02   \n",
       "75%        45.000000     133.000000      50.000000  2.512812e+03   \n",
       "max        72.000000     840.000000     125.000000  6.829725e+06   \n",
       "\n",
       "        denominator      raw_value      fips_code     start_year  \n",
       "count  1.774580e+05  273898.000000  273898.000000  273898.000000  \n",
       "mean   8.580908e+04    1138.570435   30465.128939    2006.691119  \n",
       "std    6.775931e+05    2921.284656   15174.872861       3.153091  \n",
       "min    1.000000e+01       0.000000    1000.000000    1997.000000  \n",
       "25%    2.056000e+03       0.219000   19000.000000    2005.000000  \n",
       "50%    8.155000e+03       0.694000   29179.000000    2007.000000  \n",
       "75%    2.735908e+04     107.000000   45079.000000    2009.000000  \n",
       "max    3.769191e+07   32810.400000   72153.000000    2012.000000  "
      ]
     },
     "execution_count": 6,
     "metadata": {},
     "output_type": "execute_result"
    }
   ],
   "source": [
    "df.describe()"
   ]
  },
  {
   "cell_type": "code",
   "execution_count": 8,
   "metadata": {},
   "outputs": [
    {
     "data": {
      "text/plain": [
       "numerator     -0.036932\n",
       "denominator    0.108359\n",
       "raw_value      1.000000\n",
       "Name: raw_value, dtype: float64"
      ]
     },
     "execution_count": 8,
     "metadata": {},
     "output_type": "execute_result"
    }
   ],
   "source": [
    "df[['numerator', 'denominator', 'raw_value']].corr()['raw_value']"
   ]
  },
  {
   "cell_type": "code",
   "execution_count": 117,
   "metadata": {},
   "outputs": [
    {
     "data": {
      "image/png": "[encoded data removed]",
      "text/plain": [
       "<Figure size 864x216 with 1 Axes>"
      ]
     },
     "metadata": {
      "needs_background": "light"
     },
     "output_type": "display_data"
    }
   ],
   "source": [
    "fig = plt.figure(figsize=(12,3))\n",
    "ax = fig.add_subplot(111)\n",
    "plt.hist(df.raw_value, bins=200)\n",
    "ax.set_yscale('log')"
   ]
  },
  {
   "cell_type": "code",
   "execution_count": 9,
   "metadata": {},
   "outputs": [
    {
     "data": {
      "text/plain": [
       "2008.0    37633\n",
       "2009.0    34590\n",
       "2010.0    31600\n",
       "2006.0    30550\n",
       "2007.0    25181\n",
       "2004.0    21912\n",
       "2005.0    21901\n",
       "2011.0    21800\n",
       "2003.0    21539\n",
       "2002.0     9298\n",
       "2012.0     3270\n",
       "1997.0     2935\n",
       "1998.0     2930\n",
       "2001.0     2921\n",
       "2000.0     2919\n",
       "1999.0     2919\n",
       "Name: start_year, dtype: int64"
      ]
     },
     "execution_count": 9,
     "metadata": {},
     "output_type": "execute_result"
    }
   ],
   "source": [
    "df.start_year.value_counts()"
   ]
  },
  {
   "cell_type": "code",
   "execution_count": 17,
   "metadata": {},
   "outputs": [
    {
     "data": {
      "image/png": "[encoded data removed]",
      "text/plain": [
       "<Figure size 864x216 with 1 Axes>"
      ]
     },
     "metadata": {
      "needs_background": "light"
     },
     "output_type": "display_data"
    }
   ],
   "source": [
    "dfy = df[df.start_year == 2008]\n",
    "\n",
    "fig = plt.figure(figsize=(12,3))\n",
    "ax = fig.add_subplot(111)\n",
    "plt.hist(dfy.raw_value, bins=200)\n",
    "ax.set_yscale('log')"
   ]
  },
  {
   "cell_type": "code",
   "execution_count": 18,
   "metadata": {},
   "outputs": [
    {
     "data": {
      "image/png": "[encoded data removed]",
      "text/plain": [
       "<Figure size 864x216 with 1 Axes>"
      ]
     },
     "metadata": {
      "needs_background": "light"
     },
     "output_type": "display_data"
    }
   ],
   "source": [
    "dfy = df[df.start_year == 2009]\n",
    "\n",
    "fig = plt.figure(figsize=(12,3))\n",
    "ax = fig.add_subplot(111)\n",
    "plt.hist(dfy.raw_value, bins=200)\n",
    "ax.set_yscale('log')"
   ]
  },
  {
   "cell_type": "code",
   "execution_count": 19,
   "metadata": {},
   "outputs": [
    {
     "data": {
      "image/png": "[encoded data removed]",
      "text/plain": [
       "<Figure size 864x216 with 1 Axes>"
      ]
     },
     "metadata": {
      "needs_background": "light"
     },
     "output_type": "display_data"
    }
   ],
   "source": [
    "dfy = df[df.start_year == 2010]\n",
    "\n",
    "fig = plt.figure(figsize=(12,3))\n",
    "ax = fig.add_subplot(111)\n",
    "plt.hist(dfy.raw_value, bins=200)\n",
    "ax.set_yscale('log')"
   ]
  },
  {
   "cell_type": "code",
   "execution_count": 20,
   "metadata": {},
   "outputs": [
    {
     "data": {
      "image/png": "[encoded data removed]",
      "text/plain": [
       "<Figure size 864x216 with 1 Axes>"
      ]
     },
     "metadata": {
      "needs_background": "light"
     },
     "output_type": "display_data"
    }
   ],
   "source": [
    "dfy = df[df.start_year == 2006]\n",
    "\n",
    "fig = plt.figure(figsize=(12,3))\n",
    "ax = fig.add_subplot(111)\n",
    "plt.hist(dfy.raw_value, bins=200)\n",
    "ax.set_yscale('log')"
   ]
  },
  {
   "cell_type": "code",
   "execution_count": 21,
   "metadata": {},
   "outputs": [
    {
     "data": {
      "image/png": "[encoded data removed]",
      "text/plain": [
       "<Figure size 864x216 with 1 Axes>"
      ]
     },
     "metadata": {
      "needs_background": "light"
     },
     "output_type": "display_data"
    }
   ],
   "source": [
    "dfy = df[df.start_year == 2007]\n",
    "\n",
    "fig = plt.figure(figsize=(12,3))\n",
    "ax = fig.add_subplot(111)\n",
    "plt.hist(dfy.raw_value, bins=200)\n",
    "ax.set_yscale('log')"
   ]
  },
  {
   "cell_type": "code",
   "execution_count": 22,
   "metadata": {},
   "outputs": [
    {
     "data": {
      "image/png": "[encoded data removed]",
      "text/plain": [
       "<Figure size 864x216 with 1 Axes>"
      ]
     },
     "metadata": {
      "needs_background": "light"
     },
     "output_type": "display_data"
    }
   ],
   "source": [
    "dfy = df[df.start_year == 2004]\n",
    "\n",
    "fig = plt.figure(figsize=(12,3))\n",
    "ax = fig.add_subplot(111)\n",
    "plt.hist(dfy.raw_value, bins=200)\n",
    "ax.set_yscale('log')"
   ]
  },
  {
   "cell_type": "code",
   "execution_count": 23,
   "metadata": {},
   "outputs": [
    {
     "data": {
      "image/png": "[encoded data removed]",
      "text/plain": [
       "<Figure size 864x216 with 1 Axes>"
      ]
     },
     "metadata": {
      "needs_background": "light"
     },
     "output_type": "display_data"
    }
   ],
   "source": [
    "dfy = df[df.start_year == 2005]\n",
    "\n",
    "fig = plt.figure(figsize=(12,3))\n",
    "ax = fig.add_subplot(111)\n",
    "plt.hist(dfy.raw_value, bins=200)\n",
    "ax.set_yscale('log')"
   ]
  },
  {
   "cell_type": "code",
   "execution_count": 24,
   "metadata": {},
   "outputs": [
    {
     "data": {
      "image/png": "[encoded data removed]",
      "text/plain": [
       "<Figure size 864x216 with 1 Axes>"
      ]
     },
     "metadata": {
      "needs_background": "light"
     },
     "output_type": "display_data"
    }
   ],
   "source": [
    "dfy = df[df.start_year == 2011]\n",
    "\n",
    "fig = plt.figure(figsize=(12,3))\n",
    "ax = fig.add_subplot(111)\n",
    "plt.hist(dfy.raw_value, bins=200)\n",
    "ax.set_yscale('log')"
   ]
  },
  {
   "cell_type": "code",
   "execution_count": 28,
   "metadata": {},
   "outputs": [
    {
     "data": {
      "image/png": "[encoded data removed]",
      "text/plain": [
       "<Figure size 864x216 with 1 Axes>"
      ]
     },
     "metadata": {
      "needs_background": "light"
     },
     "output_type": "display_data"
    }
   ],
   "source": [
    "dfy = df[df.start_year == 2003]\n",
    "\n",
    "fig = plt.figure(figsize=(12,3))\n",
    "ax = fig.add_subplot(111)\n",
    "plt.hist(dfy.raw_value, bins=200)\n",
    "ax.set_yscale('log')"
   ]
  },
  {
   "cell_type": "code",
   "execution_count": 26,
   "metadata": {},
   "outputs": [
    {
     "data": {
      "image/png": "[encoded data removed]",
      "text/plain": [
       "<Figure size 864x216 with 1 Axes>"
      ]
     },
     "metadata": {
      "needs_background": "light"
     },
     "output_type": "display_data"
    }
   ],
   "source": [
    "dfy = df[df.start_year == 2002]\n",
    "\n",
    "fig = plt.figure(figsize=(12,3))\n",
    "ax = fig.add_subplot(111)\n",
    "plt.hist(dfy.raw_value, bins=200)\n",
    "ax.set_yscale('log')"
   ]
  },
  {
   "cell_type": "code",
   "execution_count": 32,
   "metadata": {},
   "outputs": [
    {
     "data": {
      "image/png": "[encoded data removed]",
      "text/plain": [
       "<Figure size 864x216 with 1 Axes>"
      ]
     },
     "metadata": {
      "needs_background": "light"
     },
     "output_type": "display_data"
    }
   ],
   "source": [
    "dfy = df[df.start_year == 2012]\n",
    "\n",
    "fig = plt.figure(figsize=(12,3))\n",
    "ax = fig.add_subplot(111)\n",
    "plt.hist(dfy.raw_value, bins=200)\n",
    "ax.set_yscale('log')"
   ]
  },
  {
   "cell_type": "code",
   "execution_count": 33,
   "metadata": {},
   "outputs": [
    {
     "data": {
      "image/png": "[encoded data removed]",
      "text/plain": [
       "<Figure size 864x216 with 1 Axes>"
      ]
     },
     "metadata": {
      "needs_background": "light"
     },
     "output_type": "display_data"
    }
   ],
   "source": [
    "dfy = df[df.start_year == 1997]\n",
    "\n",
    "fig = plt.figure(figsize=(12,3))\n",
    "ax = fig.add_subplot(111)\n",
    "plt.hist(dfy.raw_value, bins=200)\n",
    "ax.set_yscale('log')"
   ]
  },
  {
   "cell_type": "code",
   "execution_count": 34,
   "metadata": {},
   "outputs": [
    {
     "data": {
      "image/png": "[encoded data removed]",
      "text/plain": [
       "<Figure size 864x216 with 1 Axes>"
      ]
     },
     "metadata": {
      "needs_background": "light"
     },
     "output_type": "display_data"
    }
   ],
   "source": [
    "dfy = df[df.start_year == 1998]\n",
    "\n",
    "fig = plt.figure(figsize=(12,3))\n",
    "ax = fig.add_subplot(111)\n",
    "plt.hist(dfy.raw_value, bins=200)\n",
    "ax.set_yscale('log')"
   ]
  },
  {
   "cell_type": "code",
   "execution_count": 35,
   "metadata": {},
   "outputs": [
    {
     "data": {
      "image/png": "[encoded data removed]",
      "text/plain": [
       "<Figure size 864x216 with 1 Axes>"
      ]
     },
     "metadata": {
      "needs_background": "light"
     },
     "output_type": "display_data"
    }
   ],
   "source": [
    "dfy = df[df.start_year == 2001]\n",
    "\n",
    "fig = plt.figure(figsize=(12,3))\n",
    "ax = fig.add_subplot(111)\n",
    "plt.hist(dfy.raw_value, bins=200)\n",
    "ax.set_yscale('log')"
   ]
  },
  {
   "cell_type": "code",
   "execution_count": 36,
   "metadata": {},
   "outputs": [
    {
     "data": {
      "image/png": "[encoded data removed]",
      "text/plain": [
       "<Figure size 864x216 with 1 Axes>"
      ]
     },
     "metadata": {
      "needs_background": "light"
     },
     "output_type": "display_data"
    }
   ],
   "source": [
    "dfy = df[df.start_year == 2000]\n",
    "\n",
    "fig = plt.figure(figsize=(12,3))\n",
    "ax = fig.add_subplot(111)\n",
    "plt.hist(dfy.raw_value, bins=200)\n",
    "ax.set_yscale('log')"
   ]
  },
  {
   "cell_type": "code",
   "execution_count": 37,
   "metadata": {},
   "outputs": [
    {
     "data": {
      "image/png": "[encoded data removed]",
      "text/plain": [
       "<Figure size 864x216 with 1 Axes>"
      ]
     },
     "metadata": {
      "needs_background": "light"
     },
     "output_type": "display_data"
    }
   ],
   "source": [
    "dfy = df[df.start_year == 1999]\n",
    "\n",
    "fig = plt.figure(figsize=(12,3))\n",
    "ax = fig.add_subplot(111)\n",
    "plt.hist(dfy.raw_value, bins=200)\n",
    "ax.set_yscale('log')"
   ]
  },
  {
   "cell_type": "markdown",
   "metadata": {},
   "source": [
    "The raw value column has very complex distribution.  When grouped by start-year, three distinct patterns emerge.  1. declining seen 2009, 2010 and 2011, 2. double peaks seen in 2008, 2006, 2007, 2004, 2005, 2003 and 2002, 3. one peak seen in 1997, 1998, 2001, 2000 and 1999.  Although 2012 also has only one peak, the raw_values are very different from other years since they are all less than 1.  Therefore, data will be analyzed in four groups.  "
   ]
  },
  {
   "cell_type": "code",
   "execution_count": 49,
   "metadata": {},
   "outputs": [
    {
     "data": {
      "image/png": "[encoded data removed]",
      "text/plain": [
       "<Figure size 864x216 with 1 Axes>"
      ]
     },
     "metadata": {
      "needs_background": "light"
     },
     "output_type": "display_data"
    }
   ],
   "source": [
    "df1 = df[df['start_year'].isin([2009, 2010, 2011])]\n",
    "\n",
    "fig = plt.figure(figsize=(12,3))\n",
    "ax = fig.add_subplot(111)\n",
    "plt.hist(df1.raw_value, bins=200)\n",
    "ax.set_yscale('log')"
   ]
  },
  {
   "cell_type": "code",
   "execution_count": 50,
   "metadata": {},
   "outputs": [
    {
     "data": {
      "image/png": "[encoded data removed]",
      "text/plain": [
       "<Figure size 864x216 with 1 Axes>"
      ]
     },
     "metadata": {
      "needs_background": "light"
     },
     "output_type": "display_data"
    }
   ],
   "source": [
    "df2 = df[df['start_year'].isin([2008,2006,2007,2004,2005,2003])]\n",
    "\n",
    "fig = plt.figure(figsize=(12,3))\n",
    "ax = fig.add_subplot(111)\n",
    "plt.hist(df2.raw_value, bins=200)\n",
    "ax.set_yscale('log')"
   ]
  },
  {
   "cell_type": "code",
   "execution_count": 60,
   "metadata": {},
   "outputs": [
    {
     "data": {
      "image/png": "[encoded data removed]",
      "text/plain": [
       "<Figure size 864x216 with 1 Axes>"
      ]
     },
     "metadata": {
      "needs_background": "light"
     },
     "output_type": "display_data"
    }
   ],
   "source": [
    "df3 = df[df['start_year'].isin([1997,1998,2001,2000,1999])]\n",
    "\n",
    "fig = plt.figure(figsize=(12,3))\n",
    "ax = fig.add_subplot(111)\n",
    "plt.hist(df3.raw_value, bins=200)\n",
    "ax.set_yscale('log')"
   ]
  },
  {
   "cell_type": "code",
   "execution_count": 54,
   "metadata": {},
   "outputs": [
    {
     "data": {
      "image/png": "[encoded data removed]",
      "text/plain": [
       "<Figure size 864x216 with 1 Axes>"
      ]
     },
     "metadata": {
      "needs_background": "light"
     },
     "output_type": "display_data"
    }
   ],
   "source": [
    "df4 = df[df['start_year']==2012]\n",
    "\n",
    "fig = plt.figure(figsize=(12,3))\n",
    "ax = fig.add_subplot(111)\n",
    "plt.hist(df4.raw_value, bins=200)\n",
    "ax.set_yscale('log')"
   ]
  },
  {
   "cell_type": "markdown",
   "metadata": {},
   "source": [
    "### <b>Top five states with the higest raw_value in different groups"
   ]
  },
  {
   "cell_type": "code",
   "execution_count": 62,
   "metadata": {},
   "outputs": [
    {
     "data": {
      "text/html": [
       "<div>\n",
       "<style scoped>\n",
       "    .dataframe tbody tr th:only-of-type {\n",
       "        vertical-align: middle;\n",
       "    }\n",
       "\n",
       "    .dataframe tbody tr th {\n",
       "        vertical-align: top;\n",
       "    }\n",
       "\n",
       "    .dataframe thead th {\n",
       "        text-align: right;\n",
       "    }\n",
       "</style>\n",
       "<table border=\"1\" class=\"dataframe\">\n",
       "  <thead>\n",
       "    <tr style=\"text-align: right;\">\n",
       "      <th></th>\n",
       "      <th>state</th>\n",
       "      <th>county</th>\n",
       "      <th>state_code</th>\n",
       "      <th>county_code</th>\n",
       "      <th>measure_name</th>\n",
       "      <th>measure_id</th>\n",
       "      <th>numerator</th>\n",
       "      <th>denominator</th>\n",
       "      <th>raw_value</th>\n",
       "      <th>fips_code</th>\n",
       "      <th>start_year</th>\n",
       "    </tr>\n",
       "  </thead>\n",
       "  <tbody>\n",
       "    <tr>\n",
       "      <th>152920</th>\n",
       "      <td>AK</td>\n",
       "      <td>Nome Census Area</td>\n",
       "      <td>2.0</td>\n",
       "      <td>180.0</td>\n",
       "      <td>Sexually transmitted infections</td>\n",
       "      <td>45.0</td>\n",
       "      <td>267.0</td>\n",
       "      <td>9492.0</td>\n",
       "      <td>2812.9</td>\n",
       "      <td>2180.0</td>\n",
       "      <td>2010.0</td>\n",
       "    </tr>\n",
       "    <tr>\n",
       "      <th>152958</th>\n",
       "      <td>AK</td>\n",
       "      <td>Wade Hampton Census Area</td>\n",
       "      <td>2.0</td>\n",
       "      <td>270.0</td>\n",
       "      <td>Sexually transmitted infections</td>\n",
       "      <td>45.0</td>\n",
       "      <td>209.0</td>\n",
       "      <td>7459.0</td>\n",
       "      <td>2802.0</td>\n",
       "      <td>2270.0</td>\n",
       "      <td>2010.0</td>\n",
       "    </tr>\n",
       "    <tr>\n",
       "      <th>152931</th>\n",
       "      <td>AK</td>\n",
       "      <td>Northwest Arctic Borough</td>\n",
       "      <td>2.0</td>\n",
       "      <td>188.0</td>\n",
       "      <td>Sexually transmitted infections</td>\n",
       "      <td>45.0</td>\n",
       "      <td>213.0</td>\n",
       "      <td>7733.0</td>\n",
       "      <td>2754.4</td>\n",
       "      <td>2188.0</td>\n",
       "      <td>2011.0</td>\n",
       "    </tr>\n",
       "    <tr>\n",
       "      <th>152930</th>\n",
       "      <td>AK</td>\n",
       "      <td>Northwest Arctic Borough</td>\n",
       "      <td>2.0</td>\n",
       "      <td>188.0</td>\n",
       "      <td>Sexually transmitted infections</td>\n",
       "      <td>45.0</td>\n",
       "      <td>206.0</td>\n",
       "      <td>7523.0</td>\n",
       "      <td>2738.3</td>\n",
       "      <td>2188.0</td>\n",
       "      <td>2010.0</td>\n",
       "    </tr>\n",
       "    <tr>\n",
       "      <th>152959</th>\n",
       "      <td>AK</td>\n",
       "      <td>Wade Hampton Census Area</td>\n",
       "      <td>2.0</td>\n",
       "      <td>270.0</td>\n",
       "      <td>Sexually transmitted infections</td>\n",
       "      <td>45.0</td>\n",
       "      <td>207.0</td>\n",
       "      <td>7662.0</td>\n",
       "      <td>2701.6</td>\n",
       "      <td>2270.0</td>\n",
       "      <td>2011.0</td>\n",
       "    </tr>\n",
       "  </tbody>\n",
       "</table>\n",
       "</div>"
      ],
      "text/plain": [
       "       state                    county  state_code  county_code  \\\n",
       "152920    AK          Nome Census Area         2.0        180.0   \n",
       "152958    AK  Wade Hampton Census Area         2.0        270.0   \n",
       "152931    AK  Northwest Arctic Borough         2.0        188.0   \n",
       "152930    AK  Northwest Arctic Borough         2.0        188.0   \n",
       "152959    AK  Wade Hampton Census Area         2.0        270.0   \n",
       "\n",
       "                           measure_name  measure_id  numerator  denominator  \\\n",
       "152920  Sexually transmitted infections        45.0      267.0       9492.0   \n",
       "152958  Sexually transmitted infections        45.0      209.0       7459.0   \n",
       "152931  Sexually transmitted infections        45.0      213.0       7733.0   \n",
       "152930  Sexually transmitted infections        45.0      206.0       7523.0   \n",
       "152959  Sexually transmitted infections        45.0      207.0       7662.0   \n",
       "\n",
       "        raw_value  fips_code  start_year  \n",
       "152920     2812.9     2180.0      2010.0  \n",
       "152958     2802.0     2270.0      2010.0  \n",
       "152931     2754.4     2188.0      2011.0  \n",
       "152930     2738.3     2188.0      2010.0  \n",
       "152959     2701.6     2270.0      2011.0  "
      ]
     },
     "execution_count": 62,
     "metadata": {},
     "output_type": "execute_result"
    }
   ],
   "source": [
    "# top five states with the higest raw_value in group 1\n",
    "\n",
    "df1.sort_values(by='raw_value', ascending=False).head()"
   ]
  },
  {
   "cell_type": "code",
   "execution_count": 63,
   "metadata": {},
   "outputs": [
    {
     "data": {
      "text/html": [
       "<div>\n",
       "<style scoped>\n",
       "    .dataframe tbody tr th:only-of-type {\n",
       "        vertical-align: middle;\n",
       "    }\n",
       "\n",
       "    .dataframe tbody tr th {\n",
       "        vertical-align: top;\n",
       "    }\n",
       "\n",
       "    .dataframe thead th {\n",
       "        text-align: right;\n",
       "    }\n",
       "</style>\n",
       "<table border=\"1\" class=\"dataframe\">\n",
       "  <thead>\n",
       "    <tr style=\"text-align: right;\">\n",
       "      <th></th>\n",
       "      <th>state</th>\n",
       "      <th>county</th>\n",
       "      <th>state_code</th>\n",
       "      <th>county_code</th>\n",
       "      <th>measure_name</th>\n",
       "      <th>measure_id</th>\n",
       "      <th>numerator</th>\n",
       "      <th>denominator</th>\n",
       "      <th>raw_value</th>\n",
       "      <th>fips_code</th>\n",
       "      <th>start_year</th>\n",
       "    </tr>\n",
       "  </thead>\n",
       "  <tbody>\n",
       "    <tr>\n",
       "      <th>27258</th>\n",
       "      <td>SD</td>\n",
       "      <td>Mellette County</td>\n",
       "      <td>46.0</td>\n",
       "      <td>95.0</td>\n",
       "      <td>Premature Death</td>\n",
       "      <td>1.0</td>\n",
       "      <td>54.0</td>\n",
       "      <td>NaN</td>\n",
       "      <td>28433.300</td>\n",
       "      <td>46095.0</td>\n",
       "      <td>2003.0</td>\n",
       "    </tr>\n",
       "    <tr>\n",
       "      <th>27335</th>\n",
       "      <td>SD</td>\n",
       "      <td>Shannon County</td>\n",
       "      <td>46.0</td>\n",
       "      <td>113.0</td>\n",
       "      <td>Premature Death</td>\n",
       "      <td>1.0</td>\n",
       "      <td>311.0</td>\n",
       "      <td>NaN</td>\n",
       "      <td>26489.600</td>\n",
       "      <td>46113.0</td>\n",
       "      <td>2003.0</td>\n",
       "    </tr>\n",
       "    <tr>\n",
       "      <th>27336</th>\n",
       "      <td>SD</td>\n",
       "      <td>Shannon County</td>\n",
       "      <td>46.0</td>\n",
       "      <td>113.0</td>\n",
       "      <td>Premature Death</td>\n",
       "      <td>1.0</td>\n",
       "      <td>307.0</td>\n",
       "      <td>NaN</td>\n",
       "      <td>26281.428</td>\n",
       "      <td>46113.0</td>\n",
       "      <td>2004.0</td>\n",
       "    </tr>\n",
       "    <tr>\n",
       "      <th>22931</th>\n",
       "      <td>ND</td>\n",
       "      <td>Sioux County</td>\n",
       "      <td>38.0</td>\n",
       "      <td>85.0</td>\n",
       "      <td>Premature Death</td>\n",
       "      <td>1.0</td>\n",
       "      <td>105.0</td>\n",
       "      <td>NaN</td>\n",
       "      <td>25367.021</td>\n",
       "      <td>38085.0</td>\n",
       "      <td>2007.0</td>\n",
       "    </tr>\n",
       "    <tr>\n",
       "      <th>22929</th>\n",
       "      <td>ND</td>\n",
       "      <td>Sioux County</td>\n",
       "      <td>38.0</td>\n",
       "      <td>85.0</td>\n",
       "      <td>Premature Death</td>\n",
       "      <td>1.0</td>\n",
       "      <td>91.0</td>\n",
       "      <td>NaN</td>\n",
       "      <td>25017.980</td>\n",
       "      <td>38085.0</td>\n",
       "      <td>2005.0</td>\n",
       "    </tr>\n",
       "  </tbody>\n",
       "</table>\n",
       "</div>"
      ],
      "text/plain": [
       "      state           county  state_code  county_code     measure_name  \\\n",
       "27258    SD  Mellette County        46.0         95.0  Premature Death   \n",
       "27335    SD   Shannon County        46.0        113.0  Premature Death   \n",
       "27336    SD   Shannon County        46.0        113.0  Premature Death   \n",
       "22931    ND     Sioux County        38.0         85.0  Premature Death   \n",
       "22929    ND     Sioux County        38.0         85.0  Premature Death   \n",
       "\n",
       "       measure_id  numerator  denominator  raw_value  fips_code  start_year  \n",
       "27258         1.0       54.0          NaN  28433.300    46095.0      2003.0  \n",
       "27335         1.0      311.0          NaN  26489.600    46113.0      2003.0  \n",
       "27336         1.0      307.0          NaN  26281.428    46113.0      2004.0  \n",
       "22931         1.0      105.0          NaN  25367.021    38085.0      2007.0  \n",
       "22929         1.0       91.0          NaN  25017.980    38085.0      2005.0  "
      ]
     },
     "execution_count": 63,
     "metadata": {},
     "output_type": "execute_result"
    }
   ],
   "source": [
    "# top five states with the higest raw_value in group 2\n",
    "\n",
    "df2.sort_values(by='raw_value', ascending=False).head()"
   ]
  },
  {
   "cell_type": "code",
   "execution_count": 64,
   "metadata": {},
   "outputs": [
    {
     "data": {
      "text/html": [
       "<div>\n",
       "<style scoped>\n",
       "    .dataframe tbody tr th:only-of-type {\n",
       "        vertical-align: middle;\n",
       "    }\n",
       "\n",
       "    .dataframe tbody tr th {\n",
       "        vertical-align: top;\n",
       "    }\n",
       "\n",
       "    .dataframe thead th {\n",
       "        text-align: right;\n",
       "    }\n",
       "</style>\n",
       "<table border=\"1\" class=\"dataframe\">\n",
       "  <thead>\n",
       "    <tr style=\"text-align: right;\">\n",
       "      <th></th>\n",
       "      <th>state</th>\n",
       "      <th>county</th>\n",
       "      <th>state_code</th>\n",
       "      <th>county_code</th>\n",
       "      <th>measure_name</th>\n",
       "      <th>measure_id</th>\n",
       "      <th>numerator</th>\n",
       "      <th>denominator</th>\n",
       "      <th>raw_value</th>\n",
       "      <th>fips_code</th>\n",
       "      <th>start_year</th>\n",
       "    </tr>\n",
       "  </thead>\n",
       "  <tbody>\n",
       "    <tr>\n",
       "      <th>535</th>\n",
       "      <td>AK</td>\n",
       "      <td>Lake and Peninsula Borough</td>\n",
       "      <td>2.0</td>\n",
       "      <td>164.0</td>\n",
       "      <td>Premature Death</td>\n",
       "      <td>1.0</td>\n",
       "      <td>48.0</td>\n",
       "      <td>NaN</td>\n",
       "      <td>32810.4</td>\n",
       "      <td>2164.0</td>\n",
       "      <td>2000.0</td>\n",
       "    </tr>\n",
       "    <tr>\n",
       "      <th>26941</th>\n",
       "      <td>SD</td>\n",
       "      <td>Buffalo County</td>\n",
       "      <td>46.0</td>\n",
       "      <td>17.0</td>\n",
       "      <td>Premature Death</td>\n",
       "      <td>1.0</td>\n",
       "      <td>54.0</td>\n",
       "      <td>NaN</td>\n",
       "      <td>32053.9</td>\n",
       "      <td>46017.0</td>\n",
       "      <td>1999.0</td>\n",
       "    </tr>\n",
       "    <tr>\n",
       "      <th>534</th>\n",
       "      <td>AK</td>\n",
       "      <td>Lake and Peninsula Borough</td>\n",
       "      <td>2.0</td>\n",
       "      <td>164.0</td>\n",
       "      <td>Premature Death</td>\n",
       "      <td>1.0</td>\n",
       "      <td>46.0</td>\n",
       "      <td>NaN</td>\n",
       "      <td>31086.4</td>\n",
       "      <td>2164.0</td>\n",
       "      <td>1999.0</td>\n",
       "    </tr>\n",
       "    <tr>\n",
       "      <th>26942</th>\n",
       "      <td>SD</td>\n",
       "      <td>Buffalo County</td>\n",
       "      <td>46.0</td>\n",
       "      <td>17.0</td>\n",
       "      <td>Premature Death</td>\n",
       "      <td>1.0</td>\n",
       "      <td>50.0</td>\n",
       "      <td>NaN</td>\n",
       "      <td>31049.2</td>\n",
       "      <td>46017.0</td>\n",
       "      <td>2000.0</td>\n",
       "    </tr>\n",
       "    <tr>\n",
       "      <th>26940</th>\n",
       "      <td>SD</td>\n",
       "      <td>Buffalo County</td>\n",
       "      <td>46.0</td>\n",
       "      <td>17.0</td>\n",
       "      <td>Premature Death</td>\n",
       "      <td>1.0</td>\n",
       "      <td>52.0</td>\n",
       "      <td>NaN</td>\n",
       "      <td>29193.4</td>\n",
       "      <td>46017.0</td>\n",
       "      <td>1998.0</td>\n",
       "    </tr>\n",
       "  </tbody>\n",
       "</table>\n",
       "</div>"
      ],
      "text/plain": [
       "      state                      county  state_code  county_code  \\\n",
       "535      AK  Lake and Peninsula Borough         2.0        164.0   \n",
       "26941    SD              Buffalo County        46.0         17.0   \n",
       "534      AK  Lake and Peninsula Borough         2.0        164.0   \n",
       "26942    SD              Buffalo County        46.0         17.0   \n",
       "26940    SD              Buffalo County        46.0         17.0   \n",
       "\n",
       "          measure_name  measure_id  numerator  denominator  raw_value  \\\n",
       "535    Premature Death         1.0       48.0          NaN    32810.4   \n",
       "26941  Premature Death         1.0       54.0          NaN    32053.9   \n",
       "534    Premature Death         1.0       46.0          NaN    31086.4   \n",
       "26942  Premature Death         1.0       50.0          NaN    31049.2   \n",
       "26940  Premature Death         1.0       52.0          NaN    29193.4   \n",
       "\n",
       "       fips_code  start_year  \n",
       "535       2164.0      2000.0  \n",
       "26941    46017.0      1999.0  \n",
       "534       2164.0      1999.0  \n",
       "26942    46017.0      2000.0  \n",
       "26940    46017.0      1998.0  "
      ]
     },
     "execution_count": 64,
     "metadata": {},
     "output_type": "execute_result"
    }
   ],
   "source": [
    "# top five states with the higest raw_value in group 3\n",
    "\n",
    "df3.sort_values(by='raw_value', ascending=False).head()"
   ]
  },
  {
   "cell_type": "code",
   "execution_count": 66,
   "metadata": {},
   "outputs": [
    {
     "data": {
      "text/html": [
       "<div>\n",
       "<style scoped>\n",
       "    .dataframe tbody tr th:only-of-type {\n",
       "        vertical-align: middle;\n",
       "    }\n",
       "\n",
       "    .dataframe tbody tr th {\n",
       "        vertical-align: top;\n",
       "    }\n",
       "\n",
       "    .dataframe thead th {\n",
       "        text-align: right;\n",
       "    }\n",
       "</style>\n",
       "<table border=\"1\" class=\"dataframe\">\n",
       "  <thead>\n",
       "    <tr style=\"text-align: right;\">\n",
       "      <th></th>\n",
       "      <th>state</th>\n",
       "      <th>county</th>\n",
       "      <th>state_code</th>\n",
       "      <th>county_code</th>\n",
       "      <th>measure_name</th>\n",
       "      <th>measure_id</th>\n",
       "      <th>numerator</th>\n",
       "      <th>denominator</th>\n",
       "      <th>raw_value</th>\n",
       "      <th>fips_code</th>\n",
       "      <th>start_year</th>\n",
       "    </tr>\n",
       "  </thead>\n",
       "  <tbody>\n",
       "    <tr>\n",
       "      <th>37951</th>\n",
       "      <td>CA</td>\n",
       "      <td>Imperial County</td>\n",
       "      <td>6.0</td>\n",
       "      <td>25.0</td>\n",
       "      <td>Unemployment</td>\n",
       "      <td>23.0</td>\n",
       "      <td>22132.0</td>\n",
       "      <td>78282.0</td>\n",
       "      <td>0.282721</td>\n",
       "      <td>6025.0</td>\n",
       "      <td>2012.0</td>\n",
       "    </tr>\n",
       "    <tr>\n",
       "      <th>36961</th>\n",
       "      <td>AZ</td>\n",
       "      <td>Yuma County</td>\n",
       "      <td>4.0</td>\n",
       "      <td>27.0</td>\n",
       "      <td>Unemployment</td>\n",
       "      <td>23.0</td>\n",
       "      <td>25277.0</td>\n",
       "      <td>92015.0</td>\n",
       "      <td>0.274705</td>\n",
       "      <td>4027.0</td>\n",
       "      <td>2012.0</td>\n",
       "    </tr>\n",
       "    <tr>\n",
       "      <th>70809</th>\n",
       "      <td>PR</td>\n",
       "      <td>Salinas Municipio</td>\n",
       "      <td>72.0</td>\n",
       "      <td>123.0</td>\n",
       "      <td>Unemployment</td>\n",
       "      <td>23.0</td>\n",
       "      <td>2061.0</td>\n",
       "      <td>8367.0</td>\n",
       "      <td>0.246325</td>\n",
       "      <td>72123.0</td>\n",
       "      <td>2012.0</td>\n",
       "    </tr>\n",
       "    <tr>\n",
       "      <th>70801</th>\n",
       "      <td>PR</td>\n",
       "      <td>Orocovis Municipio</td>\n",
       "      <td>72.0</td>\n",
       "      <td>107.0</td>\n",
       "      <td>Unemployment</td>\n",
       "      <td>23.0</td>\n",
       "      <td>1198.0</td>\n",
       "      <td>5120.0</td>\n",
       "      <td>0.233984</td>\n",
       "      <td>72107.0</td>\n",
       "      <td>2012.0</td>\n",
       "    </tr>\n",
       "    <tr>\n",
       "      <th>70747</th>\n",
       "      <td>PR</td>\n",
       "      <td>Adjuntas Municipio</td>\n",
       "      <td>72.0</td>\n",
       "      <td>1.0</td>\n",
       "      <td>Unemployment</td>\n",
       "      <td>23.0</td>\n",
       "      <td>1034.0</td>\n",
       "      <td>4466.0</td>\n",
       "      <td>0.231527</td>\n",
       "      <td>72001.0</td>\n",
       "      <td>2012.0</td>\n",
       "    </tr>\n",
       "  </tbody>\n",
       "</table>\n",
       "</div>"
      ],
      "text/plain": [
       "      state              county  state_code  county_code  measure_name  \\\n",
       "37951    CA     Imperial County         6.0         25.0  Unemployment   \n",
       "36961    AZ         Yuma County         4.0         27.0  Unemployment   \n",
       "70809    PR   Salinas Municipio        72.0        123.0  Unemployment   \n",
       "70801    PR  Orocovis Municipio        72.0        107.0  Unemployment   \n",
       "70747    PR  Adjuntas Municipio        72.0          1.0  Unemployment   \n",
       "\n",
       "       measure_id  numerator  denominator  raw_value  fips_code  start_year  \n",
       "37951        23.0    22132.0      78282.0   0.282721     6025.0      2012.0  \n",
       "36961        23.0    25277.0      92015.0   0.274705     4027.0      2012.0  \n",
       "70809        23.0     2061.0       8367.0   0.246325    72123.0      2012.0  \n",
       "70801        23.0     1198.0       5120.0   0.233984    72107.0      2012.0  \n",
       "70747        23.0     1034.0       4466.0   0.231527    72001.0      2012.0  "
      ]
     },
     "execution_count": 66,
     "metadata": {},
     "output_type": "execute_result"
    }
   ],
   "source": [
    "# top five states with the higest raw_value in group 4\n",
    "\n",
    "df4.sort_values(by='raw_value', ascending=False).head()"
   ]
  },
  {
   "cell_type": "markdown",
   "metadata": {},
   "source": [
    "Sexually transmitted infections are found Alaska, "
   ]
  },
  {
   "cell_type": "markdown",
   "metadata": {},
   "source": [
    "### <b>Top five measures with the higest raw_value in different groups"
   ]
  },
  {
   "cell_type": "code",
   "execution_count": 68,
   "metadata": {},
   "outputs": [
    {
     "data": {
      "text/html": [
       "<div>\n",
       "<style scoped>\n",
       "    .dataframe tbody tr th:only-of-type {\n",
       "        vertical-align: middle;\n",
       "    }\n",
       "\n",
       "    .dataframe tbody tr th {\n",
       "        vertical-align: top;\n",
       "    }\n",
       "\n",
       "    .dataframe thead th {\n",
       "        text-align: right;\n",
       "    }\n",
       "</style>\n",
       "<table border=\"1\" class=\"dataframe\">\n",
       "  <thead>\n",
       "    <tr style=\"text-align: right;\">\n",
       "      <th></th>\n",
       "      <th>state</th>\n",
       "      <th>county</th>\n",
       "      <th>state_code</th>\n",
       "      <th>county_code</th>\n",
       "      <th>measure_name</th>\n",
       "      <th>measure_id</th>\n",
       "      <th>numerator</th>\n",
       "      <th>denominator</th>\n",
       "      <th>raw_value</th>\n",
       "      <th>fips_code</th>\n",
       "      <th>start_year</th>\n",
       "    </tr>\n",
       "  </thead>\n",
       "  <tbody>\n",
       "    <tr>\n",
       "      <th>257226</th>\n",
       "      <td>TN</td>\n",
       "      <td>Shelby County</td>\n",
       "      <td>47.0</td>\n",
       "      <td>157.0</td>\n",
       "      <td>Violent crime rate</td>\n",
       "      <td>43.0</td>\n",
       "      <td>11742.333330</td>\n",
       "      <td>924734.66670</td>\n",
       "      <td>1269.805681</td>\n",
       "      <td>47157.0</td>\n",
       "      <td>2009.0</td>\n",
       "    </tr>\n",
       "    <tr>\n",
       "      <th>254638</th>\n",
       "      <td>OK</td>\n",
       "      <td>Adair County</td>\n",
       "      <td>40.0</td>\n",
       "      <td>1.0</td>\n",
       "      <td>Violent crime rate</td>\n",
       "      <td>43.0</td>\n",
       "      <td>76.000000</td>\n",
       "      <td>22546.00000</td>\n",
       "      <td>337.088619</td>\n",
       "      <td>40001.0</td>\n",
       "      <td>2009.0</td>\n",
       "    </tr>\n",
       "    <tr>\n",
       "      <th>254580</th>\n",
       "      <td>OH</td>\n",
       "      <td>Van Wert County</td>\n",
       "      <td>39.0</td>\n",
       "      <td>161.0</td>\n",
       "      <td>Violent crime rate</td>\n",
       "      <td>43.0</td>\n",
       "      <td>36.666667</td>\n",
       "      <td>28748.66667</td>\n",
       "      <td>127.542147</td>\n",
       "      <td>39161.0</td>\n",
       "      <td>2009.0</td>\n",
       "    </tr>\n",
       "    <tr>\n",
       "      <th>254587</th>\n",
       "      <td>OH</td>\n",
       "      <td>Vinton County</td>\n",
       "      <td>39.0</td>\n",
       "      <td>163.0</td>\n",
       "      <td>Violent crime rate</td>\n",
       "      <td>43.0</td>\n",
       "      <td>16.666667</td>\n",
       "      <td>13417.66667</td>\n",
       "      <td>124.214344</td>\n",
       "      <td>39163.0</td>\n",
       "      <td>2009.0</td>\n",
       "    </tr>\n",
       "    <tr>\n",
       "      <th>254593</th>\n",
       "      <td>OH</td>\n",
       "      <td>Warren County</td>\n",
       "      <td>39.0</td>\n",
       "      <td>165.0</td>\n",
       "      <td>Violent crime rate</td>\n",
       "      <td>43.0</td>\n",
       "      <td>154.666667</td>\n",
       "      <td>208683.33330</td>\n",
       "      <td>74.115486</td>\n",
       "      <td>39165.0</td>\n",
       "      <td>2009.0</td>\n",
       "    </tr>\n",
       "  </tbody>\n",
       "</table>\n",
       "</div>"
      ],
      "text/plain": [
       "       state           county  state_code  county_code        measure_name  \\\n",
       "257226    TN    Shelby County        47.0        157.0  Violent crime rate   \n",
       "254638    OK     Adair County        40.0          1.0  Violent crime rate   \n",
       "254580    OH  Van Wert County        39.0        161.0  Violent crime rate   \n",
       "254587    OH    Vinton County        39.0        163.0  Violent crime rate   \n",
       "254593    OH    Warren County        39.0        165.0  Violent crime rate   \n",
       "\n",
       "        measure_id     numerator   denominator    raw_value  fips_code  \\\n",
       "257226        43.0  11742.333330  924734.66670  1269.805681    47157.0   \n",
       "254638        43.0     76.000000   22546.00000   337.088619    40001.0   \n",
       "254580        43.0     36.666667   28748.66667   127.542147    39161.0   \n",
       "254587        43.0     16.666667   13417.66667   124.214344    39163.0   \n",
       "254593        43.0    154.666667  208683.33330    74.115486    39165.0   \n",
       "\n",
       "        start_year  \n",
       "257226      2009.0  \n",
       "254638      2009.0  \n",
       "254580      2009.0  \n",
       "254587      2009.0  \n",
       "254593      2009.0  "
      ]
     },
     "execution_count": 68,
     "metadata": {},
     "output_type": "execute_result"
    }
   ],
   "source": [
    "# top five measures with the higest raw_value in group 1\n",
    "\n",
    "df1.sort_values(by='measure_name', ascending=False).head()"
   ]
  },
  {
   "cell_type": "code",
   "execution_count": 69,
   "metadata": {},
   "outputs": [
    {
     "data": {
      "text/html": [
       "<div>\n",
       "<style scoped>\n",
       "    .dataframe tbody tr th:only-of-type {\n",
       "        vertical-align: middle;\n",
       "    }\n",
       "\n",
       "    .dataframe tbody tr th {\n",
       "        vertical-align: top;\n",
       "    }\n",
       "\n",
       "    .dataframe thead th {\n",
       "        text-align: right;\n",
       "    }\n",
       "</style>\n",
       "<table border=\"1\" class=\"dataframe\">\n",
       "  <thead>\n",
       "    <tr style=\"text-align: right;\">\n",
       "      <th></th>\n",
       "      <th>state</th>\n",
       "      <th>county</th>\n",
       "      <th>state_code</th>\n",
       "      <th>county_code</th>\n",
       "      <th>measure_name</th>\n",
       "      <th>measure_id</th>\n",
       "      <th>numerator</th>\n",
       "      <th>denominator</th>\n",
       "      <th>raw_value</th>\n",
       "      <th>fips_code</th>\n",
       "      <th>start_year</th>\n",
       "    </tr>\n",
       "  </thead>\n",
       "  <tbody>\n",
       "    <tr>\n",
       "      <th>251382</th>\n",
       "      <td>MT</td>\n",
       "      <td>Musselshell County</td>\n",
       "      <td>30.0</td>\n",
       "      <td>65.0</td>\n",
       "      <td>Violent crime rate</td>\n",
       "      <td>43.0</td>\n",
       "      <td>19.000000</td>\n",
       "      <td>4533.50000</td>\n",
       "      <td>419.102239</td>\n",
       "      <td>30065.0</td>\n",
       "      <td>2003.0</td>\n",
       "    </tr>\n",
       "    <tr>\n",
       "      <th>255671</th>\n",
       "      <td>PA</td>\n",
       "      <td>Juniata County</td>\n",
       "      <td>42.0</td>\n",
       "      <td>67.0</td>\n",
       "      <td>Violent crime rate</td>\n",
       "      <td>43.0</td>\n",
       "      <td>20.666667</td>\n",
       "      <td>23216.66667</td>\n",
       "      <td>89.016511</td>\n",
       "      <td>42067.0</td>\n",
       "      <td>2006.0</td>\n",
       "    </tr>\n",
       "    <tr>\n",
       "      <th>255664</th>\n",
       "      <td>PA</td>\n",
       "      <td>Jefferson County</td>\n",
       "      <td>42.0</td>\n",
       "      <td>65.0</td>\n",
       "      <td>Violent crime rate</td>\n",
       "      <td>43.0</td>\n",
       "      <td>78.000000</td>\n",
       "      <td>41713.33333</td>\n",
       "      <td>186.990571</td>\n",
       "      <td>42065.0</td>\n",
       "      <td>2006.0</td>\n",
       "    </tr>\n",
       "    <tr>\n",
       "      <th>255665</th>\n",
       "      <td>PA</td>\n",
       "      <td>Jefferson County</td>\n",
       "      <td>42.0</td>\n",
       "      <td>65.0</td>\n",
       "      <td>Violent crime rate</td>\n",
       "      <td>43.0</td>\n",
       "      <td>93.000000</td>\n",
       "      <td>41800.33333</td>\n",
       "      <td>222.486264</td>\n",
       "      <td>42065.0</td>\n",
       "      <td>2007.0</td>\n",
       "    </tr>\n",
       "    <tr>\n",
       "      <th>255666</th>\n",
       "      <td>PA</td>\n",
       "      <td>Jefferson County</td>\n",
       "      <td>42.0</td>\n",
       "      <td>65.0</td>\n",
       "      <td>Violent crime rate</td>\n",
       "      <td>43.0</td>\n",
       "      <td>97.000000</td>\n",
       "      <td>42344.00000</td>\n",
       "      <td>229.076138</td>\n",
       "      <td>42065.0</td>\n",
       "      <td>2008.0</td>\n",
       "    </tr>\n",
       "  </tbody>\n",
       "</table>\n",
       "</div>"
      ],
      "text/plain": [
       "       state              county  state_code  county_code        measure_name  \\\n",
       "251382    MT  Musselshell County        30.0         65.0  Violent crime rate   \n",
       "255671    PA      Juniata County        42.0         67.0  Violent crime rate   \n",
       "255664    PA    Jefferson County        42.0         65.0  Violent crime rate   \n",
       "255665    PA    Jefferson County        42.0         65.0  Violent crime rate   \n",
       "255666    PA    Jefferson County        42.0         65.0  Violent crime rate   \n",
       "\n",
       "        measure_id  numerator  denominator   raw_value  fips_code  start_year  \n",
       "251382        43.0  19.000000   4533.50000  419.102239    30065.0      2003.0  \n",
       "255671        43.0  20.666667  23216.66667   89.016511    42067.0      2006.0  \n",
       "255664        43.0  78.000000  41713.33333  186.990571    42065.0      2006.0  \n",
       "255665        43.0  93.000000  41800.33333  222.486264    42065.0      2007.0  \n",
       "255666        43.0  97.000000  42344.00000  229.076138    42065.0      2008.0  "
      ]
     },
     "execution_count": 69,
     "metadata": {},
     "output_type": "execute_result"
    }
   ],
   "source": [
    "# # top five measures with the higest raw_value in group 2\n",
    "\n",
    "df2.sort_values(by='measure_name', ascending=False).head()"
   ]
  },
  {
   "cell_type": "code",
   "execution_count": 70,
   "metadata": {},
   "outputs": [
    {
     "data": {
      "text/html": [
       "<div>\n",
       "<style scoped>\n",
       "    .dataframe tbody tr th:only-of-type {\n",
       "        vertical-align: middle;\n",
       "    }\n",
       "\n",
       "    .dataframe tbody tr th {\n",
       "        vertical-align: top;\n",
       "    }\n",
       "\n",
       "    .dataframe thead th {\n",
       "        text-align: right;\n",
       "    }\n",
       "</style>\n",
       "<table border=\"1\" class=\"dataframe\">\n",
       "  <thead>\n",
       "    <tr style=\"text-align: right;\">\n",
       "      <th></th>\n",
       "      <th>state</th>\n",
       "      <th>county</th>\n",
       "      <th>state_code</th>\n",
       "      <th>county_code</th>\n",
       "      <th>measure_name</th>\n",
       "      <th>measure_id</th>\n",
       "      <th>numerator</th>\n",
       "      <th>denominator</th>\n",
       "      <th>raw_value</th>\n",
       "      <th>fips_code</th>\n",
       "      <th>start_year</th>\n",
       "    </tr>\n",
       "  </thead>\n",
       "  <tbody>\n",
       "    <tr>\n",
       "      <th>5</th>\n",
       "      <td>AL</td>\n",
       "      <td>Henry County</td>\n",
       "      <td>1.0</td>\n",
       "      <td>67.0</td>\n",
       "      <td>Premature Death</td>\n",
       "      <td>1.0</td>\n",
       "      <td>251.0</td>\n",
       "      <td>NaN</td>\n",
       "      <td>10920.2</td>\n",
       "      <td>1067.0</td>\n",
       "      <td>1997.0</td>\n",
       "    </tr>\n",
       "    <tr>\n",
       "      <th>24012</th>\n",
       "      <td>OH</td>\n",
       "      <td>Warren County</td>\n",
       "      <td>39.0</td>\n",
       "      <td>165.0</td>\n",
       "      <td>Premature Death</td>\n",
       "      <td>1.0</td>\n",
       "      <td>1371.0</td>\n",
       "      <td>NaN</td>\n",
       "      <td>6093.7</td>\n",
       "      <td>39165.0</td>\n",
       "      <td>1997.0</td>\n",
       "    </tr>\n",
       "    <tr>\n",
       "      <th>24014</th>\n",
       "      <td>OH</td>\n",
       "      <td>Warren County</td>\n",
       "      <td>39.0</td>\n",
       "      <td>165.0</td>\n",
       "      <td>Premature Death</td>\n",
       "      <td>1.0</td>\n",
       "      <td>1469.0</td>\n",
       "      <td>NaN</td>\n",
       "      <td>5777.2</td>\n",
       "      <td>39165.0</td>\n",
       "      <td>1999.0</td>\n",
       "    </tr>\n",
       "    <tr>\n",
       "      <th>24015</th>\n",
       "      <td>OH</td>\n",
       "      <td>Warren County</td>\n",
       "      <td>39.0</td>\n",
       "      <td>165.0</td>\n",
       "      <td>Premature Death</td>\n",
       "      <td>1.0</td>\n",
       "      <td>1466.0</td>\n",
       "      <td>NaN</td>\n",
       "      <td>5534.9</td>\n",
       "      <td>39165.0</td>\n",
       "      <td>2000.0</td>\n",
       "    </tr>\n",
       "    <tr>\n",
       "      <th>24016</th>\n",
       "      <td>OH</td>\n",
       "      <td>Warren County</td>\n",
       "      <td>39.0</td>\n",
       "      <td>165.0</td>\n",
       "      <td>Premature Death</td>\n",
       "      <td>1.0</td>\n",
       "      <td>1494.0</td>\n",
       "      <td>NaN</td>\n",
       "      <td>5618.1</td>\n",
       "      <td>39165.0</td>\n",
       "      <td>2001.0</td>\n",
       "    </tr>\n",
       "  </tbody>\n",
       "</table>\n",
       "</div>"
      ],
      "text/plain": [
       "      state         county  state_code  county_code     measure_name  \\\n",
       "5        AL   Henry County         1.0         67.0  Premature Death   \n",
       "24012    OH  Warren County        39.0        165.0  Premature Death   \n",
       "24014    OH  Warren County        39.0        165.0  Premature Death   \n",
       "24015    OH  Warren County        39.0        165.0  Premature Death   \n",
       "24016    OH  Warren County        39.0        165.0  Premature Death   \n",
       "\n",
       "       measure_id  numerator  denominator  raw_value  fips_code  start_year  \n",
       "5             1.0      251.0          NaN    10920.2     1067.0      1997.0  \n",
       "24012         1.0     1371.0          NaN     6093.7    39165.0      1997.0  \n",
       "24014         1.0     1469.0          NaN     5777.2    39165.0      1999.0  \n",
       "24015         1.0     1466.0          NaN     5534.9    39165.0      2000.0  \n",
       "24016         1.0     1494.0          NaN     5618.1    39165.0      2001.0  "
      ]
     },
     "execution_count": 70,
     "metadata": {},
     "output_type": "execute_result"
    }
   ],
   "source": [
    "# top five measures with the higest raw_value in group 3\n",
    "\n",
    "df3.sort_values(by='measure_name', ascending=False).head()"
   ]
  },
  {
   "cell_type": "code",
   "execution_count": 71,
   "metadata": {},
   "outputs": [
    {
     "data": {
      "text/html": [
       "<div>\n",
       "<style scoped>\n",
       "    .dataframe tbody tr th:only-of-type {\n",
       "        vertical-align: middle;\n",
       "    }\n",
       "\n",
       "    .dataframe tbody tr th {\n",
       "        vertical-align: top;\n",
       "    }\n",
       "\n",
       "    .dataframe thead th {\n",
       "        text-align: right;\n",
       "    }\n",
       "</style>\n",
       "<table border=\"1\" class=\"dataframe\">\n",
       "  <thead>\n",
       "    <tr style=\"text-align: right;\">\n",
       "      <th></th>\n",
       "      <th>state</th>\n",
       "      <th>county</th>\n",
       "      <th>state_code</th>\n",
       "      <th>county_code</th>\n",
       "      <th>measure_name</th>\n",
       "      <th>measure_id</th>\n",
       "      <th>numerator</th>\n",
       "      <th>denominator</th>\n",
       "      <th>raw_value</th>\n",
       "      <th>fips_code</th>\n",
       "      <th>start_year</th>\n",
       "    </tr>\n",
       "  </thead>\n",
       "  <tbody>\n",
       "    <tr>\n",
       "      <th>35738</th>\n",
       "      <td>AL</td>\n",
       "      <td>Alabama</td>\n",
       "      <td>1.0</td>\n",
       "      <td>0.0</td>\n",
       "      <td>Unemployment</td>\n",
       "      <td>23.0</td>\n",
       "      <td>157119.0</td>\n",
       "      <td>2156304.0</td>\n",
       "      <td>0.072865</td>\n",
       "      <td>1000.0</td>\n",
       "      <td>2012.0</td>\n",
       "    </tr>\n",
       "    <tr>\n",
       "      <th>59716</th>\n",
       "      <td>OK</td>\n",
       "      <td>Dewey County</td>\n",
       "      <td>40.0</td>\n",
       "      <td>43.0</td>\n",
       "      <td>Unemployment</td>\n",
       "      <td>23.0</td>\n",
       "      <td>76.0</td>\n",
       "      <td>2903.0</td>\n",
       "      <td>0.026180</td>\n",
       "      <td>40043.0</td>\n",
       "      <td>2012.0</td>\n",
       "    </tr>\n",
       "    <tr>\n",
       "      <th>59606</th>\n",
       "      <td>OK</td>\n",
       "      <td>Choctaw County</td>\n",
       "      <td>40.0</td>\n",
       "      <td>23.0</td>\n",
       "      <td>Unemployment</td>\n",
       "      <td>23.0</td>\n",
       "      <td>468.0</td>\n",
       "      <td>7038.0</td>\n",
       "      <td>0.066496</td>\n",
       "      <td>40023.0</td>\n",
       "      <td>2012.0</td>\n",
       "    </tr>\n",
       "    <tr>\n",
       "      <th>59617</th>\n",
       "      <td>OK</td>\n",
       "      <td>Cimarron County</td>\n",
       "      <td>40.0</td>\n",
       "      <td>25.0</td>\n",
       "      <td>Unemployment</td>\n",
       "      <td>23.0</td>\n",
       "      <td>41.0</td>\n",
       "      <td>1139.0</td>\n",
       "      <td>0.035996</td>\n",
       "      <td>40025.0</td>\n",
       "      <td>2012.0</td>\n",
       "    </tr>\n",
       "    <tr>\n",
       "      <th>59628</th>\n",
       "      <td>OK</td>\n",
       "      <td>Cleveland County</td>\n",
       "      <td>40.0</td>\n",
       "      <td>27.0</td>\n",
       "      <td>Unemployment</td>\n",
       "      <td>23.0</td>\n",
       "      <td>5653.0</td>\n",
       "      <td>128843.0</td>\n",
       "      <td>0.043875</td>\n",
       "      <td>40027.0</td>\n",
       "      <td>2012.0</td>\n",
       "    </tr>\n",
       "  </tbody>\n",
       "</table>\n",
       "</div>"
      ],
      "text/plain": [
       "      state            county  state_code  county_code  measure_name  \\\n",
       "35738    AL           Alabama         1.0          0.0  Unemployment   \n",
       "59716    OK      Dewey County        40.0         43.0  Unemployment   \n",
       "59606    OK    Choctaw County        40.0         23.0  Unemployment   \n",
       "59617    OK   Cimarron County        40.0         25.0  Unemployment   \n",
       "59628    OK  Cleveland County        40.0         27.0  Unemployment   \n",
       "\n",
       "       measure_id  numerator  denominator  raw_value  fips_code  start_year  \n",
       "35738        23.0   157119.0    2156304.0   0.072865     1000.0      2012.0  \n",
       "59716        23.0       76.0       2903.0   0.026180    40043.0      2012.0  \n",
       "59606        23.0      468.0       7038.0   0.066496    40023.0      2012.0  \n",
       "59617        23.0       41.0       1139.0   0.035996    40025.0      2012.0  \n",
       "59628        23.0     5653.0     128843.0   0.043875    40027.0      2012.0  "
      ]
     },
     "execution_count": 71,
     "metadata": {},
     "output_type": "execute_result"
    }
   ],
   "source": [
    "# top five measures with the higest raw_value in group 4\n",
    "\n",
    "df4.sort_values(by='measure_name', ascending=False).head()"
   ]
  },
  {
   "cell_type": "code",
   "execution_count": null,
   "metadata": {},
   "outputs": [],
   "source": []
  }
 ],
 "metadata": {
  "kernelspec": {
   "display_name": "Python 3",
   "language": "python",
   "name": "python3"
  },
  "language_info": {
   "codemirror_mode": {
    "name": "ipython",
    "version": 3
   },
   "file_extension": ".py",
   "mimetype": "text/x-python",
   "name": "python",
   "nbconvert_exporter": "python",
   "pygments_lexer": "ipython3",
   "version": "3.7.6"
  }
 },
 "nbformat": 4,
 "nbformat_minor": 4
}
